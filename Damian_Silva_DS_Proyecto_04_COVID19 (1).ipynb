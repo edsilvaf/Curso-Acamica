{
  "nbformat": 4,
  "nbformat_minor": 0,
  "metadata": {
    "colab": {
      "name": "Damian Silva DS_Proyecto_04_COVID19.ipynb",
      "provenance": [],
      "collapsed_sections": [],
      "toc_visible": true
    },
    "kernelspec": {
      "name": "python3",
      "display_name": "Python 3"
    },
    "language_info": {
      "name": "python"
    }
  },
  "cells": [
    {
      "cell_type": "markdown",
      "source": [
        "# Modelando a la Pandemia "
      ],
      "metadata": {
        "id": "ZtjywS_Eyimu"
      }
    },
    {
      "cell_type": "markdown",
      "source": [
        "En este proyecto vamos a estudiar y analizar los datos mundiales de la pandemia COVID-19"
      ],
      "metadata": {
        "id": "WJw_8og8yqk3"
      }
    },
    {
      "cell_type": "markdown",
      "source": [
        "Importamos las librerías "
      ],
      "metadata": {
        "id": "3CMfP1hv79xf"
      }
    },
    {
      "cell_type": "code",
      "execution_count": 1,
      "metadata": {
        "id": "aEfYU2Hww08w"
      },
      "outputs": [],
      "source": [
        "import warnings\n",
        "import numpy as np\n",
        "import pandas as pd\n",
        "import pylab as plt\n",
        "import matplotlib.pyplot as plt\n",
        "from scipy.optimize import curve_fit\n",
        "import seaborn as sns"
      ]
    },
    {
      "cell_type": "code",
      "source": [
        "warnings.filterwarnings(\"ignore\")"
      ],
      "metadata": {
        "id": "-oq4OAF-zGSx"
      },
      "execution_count": 2,
      "outputs": []
    },
    {
      "cell_type": "markdown",
      "source": [
        "Los datos con los que vamos a trabajar son los utilizados del hub de Our World in Data \n",
        "\n",
        "Link: \n",
        "https://github.com/owid/covid-19-data/tree/master/public/data"
      ],
      "metadata": {
        "id": "tBKNAMfezJ4n"
      }
    },
    {
      "cell_type": "markdown",
      "source": [
        "Este dataset que vamos a utilizar posee de features los cuales vamos a filtrar en su mayor parte. La razón para utilizar esta base de datos, con respecto a otras tales como las del CDC, es por que su gran cantidad de variables e indicadores reportados, los cuales van a servir para, filtrarlos y transformar los features en la mayoría de los casos, y por ende poder seleccionar los indicadores necesarios para mensurar la politica seleccionada para conbatir el Covid-19, tratando de utilizar de valernos lo más posible de ratios utilizados en el sector de salud para poder evitar la mayor cantidad de sesgos posibles en la comparación entre países.\n",
        "\n",
        "Por poner un ejemplo, la cantidad de tests por habitantes en cada país aun la cantidad de test por habitantes es muy baja y obviamente, si el país tiene menor cantid,ad de chequeos su relación de contagiados por habitante va a ser menor, pero no por ello es que existen menos contagiados\n"
      ],
      "metadata": {
        "id": "7ML7z4Cy07wk"
      }
    },
    {
      "cell_type": "markdown",
      "source": [
        "## Análisis Descriptivo"
      ],
      "metadata": {
        "id": "nbt2_euAW36o"
      }
    },
    {
      "cell_type": "code",
      "source": [
        "dataset2=pd.read_csv(\"owid-covid-data.csv\")\n",
        "dataset2.head()"
      ],
      "metadata": {
        "colab": {
          "base_uri": "https://localhost:8080/",
          "height": 345
        },
        "id": "3uwI_8VazQ-7",
        "outputId": "8b68494e-6a7d-46d3-b55e-e1250d1db91e"
      },
      "execution_count": 3,
      "outputs": [
        {
          "output_type": "error",
          "ename": "FileNotFoundError",
          "evalue": "ignored",
          "traceback": [
            "\u001b[0;31m---------------------------------------------------------------------------\u001b[0m",
            "\u001b[0;31mFileNotFoundError\u001b[0m                         Traceback (most recent call last)",
            "\u001b[0;32m<ipython-input-3-f17532399c44>\u001b[0m in \u001b[0;36m<module>\u001b[0;34m()\u001b[0m\n\u001b[0;32m----> 1\u001b[0;31m \u001b[0mdataset2\u001b[0m\u001b[0;34m=\u001b[0m\u001b[0mpd\u001b[0m\u001b[0;34m.\u001b[0m\u001b[0mread_csv\u001b[0m\u001b[0;34m(\u001b[0m\u001b[0;34m\"owid-covid-data.csv\"\u001b[0m\u001b[0;34m)\u001b[0m\u001b[0;34m\u001b[0m\u001b[0;34m\u001b[0m\u001b[0m\n\u001b[0m\u001b[1;32m      2\u001b[0m \u001b[0mdataset2\u001b[0m\u001b[0;34m.\u001b[0m\u001b[0mhead\u001b[0m\u001b[0;34m(\u001b[0m\u001b[0;34m)\u001b[0m\u001b[0;34m\u001b[0m\u001b[0;34m\u001b[0m\u001b[0m\n",
            "\u001b[0;32m/usr/local/lib/python3.7/dist-packages/pandas/util/_decorators.py\u001b[0m in \u001b[0;36mwrapper\u001b[0;34m(*args, **kwargs)\u001b[0m\n\u001b[1;32m    309\u001b[0m                     \u001b[0mstacklevel\u001b[0m\u001b[0;34m=\u001b[0m\u001b[0mstacklevel\u001b[0m\u001b[0;34m,\u001b[0m\u001b[0;34m\u001b[0m\u001b[0;34m\u001b[0m\u001b[0m\n\u001b[1;32m    310\u001b[0m                 )\n\u001b[0;32m--> 311\u001b[0;31m             \u001b[0;32mreturn\u001b[0m \u001b[0mfunc\u001b[0m\u001b[0;34m(\u001b[0m\u001b[0;34m*\u001b[0m\u001b[0margs\u001b[0m\u001b[0;34m,\u001b[0m \u001b[0;34m**\u001b[0m\u001b[0mkwargs\u001b[0m\u001b[0;34m)\u001b[0m\u001b[0;34m\u001b[0m\u001b[0;34m\u001b[0m\u001b[0m\n\u001b[0m\u001b[1;32m    312\u001b[0m \u001b[0;34m\u001b[0m\u001b[0m\n\u001b[1;32m    313\u001b[0m         \u001b[0;32mreturn\u001b[0m \u001b[0mwrapper\u001b[0m\u001b[0;34m\u001b[0m\u001b[0;34m\u001b[0m\u001b[0m\n",
            "\u001b[0;32m/usr/local/lib/python3.7/dist-packages/pandas/io/parsers/readers.py\u001b[0m in \u001b[0;36mread_csv\u001b[0;34m(filepath_or_buffer, sep, delimiter, header, names, index_col, usecols, squeeze, prefix, mangle_dupe_cols, dtype, engine, converters, true_values, false_values, skipinitialspace, skiprows, skipfooter, nrows, na_values, keep_default_na, na_filter, verbose, skip_blank_lines, parse_dates, infer_datetime_format, keep_date_col, date_parser, dayfirst, cache_dates, iterator, chunksize, compression, thousands, decimal, lineterminator, quotechar, quoting, doublequote, escapechar, comment, encoding, encoding_errors, dialect, error_bad_lines, warn_bad_lines, on_bad_lines, delim_whitespace, low_memory, memory_map, float_precision, storage_options)\u001b[0m\n\u001b[1;32m    584\u001b[0m     \u001b[0mkwds\u001b[0m\u001b[0;34m.\u001b[0m\u001b[0mupdate\u001b[0m\u001b[0;34m(\u001b[0m\u001b[0mkwds_defaults\u001b[0m\u001b[0;34m)\u001b[0m\u001b[0;34m\u001b[0m\u001b[0;34m\u001b[0m\u001b[0m\n\u001b[1;32m    585\u001b[0m \u001b[0;34m\u001b[0m\u001b[0m\n\u001b[0;32m--> 586\u001b[0;31m     \u001b[0;32mreturn\u001b[0m \u001b[0m_read\u001b[0m\u001b[0;34m(\u001b[0m\u001b[0mfilepath_or_buffer\u001b[0m\u001b[0;34m,\u001b[0m \u001b[0mkwds\u001b[0m\u001b[0;34m)\u001b[0m\u001b[0;34m\u001b[0m\u001b[0;34m\u001b[0m\u001b[0m\n\u001b[0m\u001b[1;32m    587\u001b[0m \u001b[0;34m\u001b[0m\u001b[0m\n\u001b[1;32m    588\u001b[0m \u001b[0;34m\u001b[0m\u001b[0m\n",
            "\u001b[0;32m/usr/local/lib/python3.7/dist-packages/pandas/io/parsers/readers.py\u001b[0m in \u001b[0;36m_read\u001b[0;34m(filepath_or_buffer, kwds)\u001b[0m\n\u001b[1;32m    480\u001b[0m \u001b[0;34m\u001b[0m\u001b[0m\n\u001b[1;32m    481\u001b[0m     \u001b[0;31m# Create the parser.\u001b[0m\u001b[0;34m\u001b[0m\u001b[0;34m\u001b[0m\u001b[0;34m\u001b[0m\u001b[0m\n\u001b[0;32m--> 482\u001b[0;31m     \u001b[0mparser\u001b[0m \u001b[0;34m=\u001b[0m \u001b[0mTextFileReader\u001b[0m\u001b[0;34m(\u001b[0m\u001b[0mfilepath_or_buffer\u001b[0m\u001b[0;34m,\u001b[0m \u001b[0;34m**\u001b[0m\u001b[0mkwds\u001b[0m\u001b[0;34m)\u001b[0m\u001b[0;34m\u001b[0m\u001b[0;34m\u001b[0m\u001b[0m\n\u001b[0m\u001b[1;32m    483\u001b[0m \u001b[0;34m\u001b[0m\u001b[0m\n\u001b[1;32m    484\u001b[0m     \u001b[0;32mif\u001b[0m \u001b[0mchunksize\u001b[0m \u001b[0;32mor\u001b[0m \u001b[0miterator\u001b[0m\u001b[0;34m:\u001b[0m\u001b[0;34m\u001b[0m\u001b[0;34m\u001b[0m\u001b[0m\n",
            "\u001b[0;32m/usr/local/lib/python3.7/dist-packages/pandas/io/parsers/readers.py\u001b[0m in \u001b[0;36m__init__\u001b[0;34m(self, f, engine, **kwds)\u001b[0m\n\u001b[1;32m    809\u001b[0m             \u001b[0mself\u001b[0m\u001b[0;34m.\u001b[0m\u001b[0moptions\u001b[0m\u001b[0;34m[\u001b[0m\u001b[0;34m\"has_index_names\"\u001b[0m\u001b[0;34m]\u001b[0m \u001b[0;34m=\u001b[0m \u001b[0mkwds\u001b[0m\u001b[0;34m[\u001b[0m\u001b[0;34m\"has_index_names\"\u001b[0m\u001b[0;34m]\u001b[0m\u001b[0;34m\u001b[0m\u001b[0;34m\u001b[0m\u001b[0m\n\u001b[1;32m    810\u001b[0m \u001b[0;34m\u001b[0m\u001b[0m\n\u001b[0;32m--> 811\u001b[0;31m         \u001b[0mself\u001b[0m\u001b[0;34m.\u001b[0m\u001b[0m_engine\u001b[0m \u001b[0;34m=\u001b[0m \u001b[0mself\u001b[0m\u001b[0;34m.\u001b[0m\u001b[0m_make_engine\u001b[0m\u001b[0;34m(\u001b[0m\u001b[0mself\u001b[0m\u001b[0;34m.\u001b[0m\u001b[0mengine\u001b[0m\u001b[0;34m)\u001b[0m\u001b[0;34m\u001b[0m\u001b[0;34m\u001b[0m\u001b[0m\n\u001b[0m\u001b[1;32m    812\u001b[0m \u001b[0;34m\u001b[0m\u001b[0m\n\u001b[1;32m    813\u001b[0m     \u001b[0;32mdef\u001b[0m \u001b[0mclose\u001b[0m\u001b[0;34m(\u001b[0m\u001b[0mself\u001b[0m\u001b[0;34m)\u001b[0m\u001b[0;34m:\u001b[0m\u001b[0;34m\u001b[0m\u001b[0;34m\u001b[0m\u001b[0m\n",
            "\u001b[0;32m/usr/local/lib/python3.7/dist-packages/pandas/io/parsers/readers.py\u001b[0m in \u001b[0;36m_make_engine\u001b[0;34m(self, engine)\u001b[0m\n\u001b[1;32m   1038\u001b[0m             )\n\u001b[1;32m   1039\u001b[0m         \u001b[0;31m# error: Too many arguments for \"ParserBase\"\u001b[0m\u001b[0;34m\u001b[0m\u001b[0;34m\u001b[0m\u001b[0;34m\u001b[0m\u001b[0m\n\u001b[0;32m-> 1040\u001b[0;31m         \u001b[0;32mreturn\u001b[0m \u001b[0mmapping\u001b[0m\u001b[0;34m[\u001b[0m\u001b[0mengine\u001b[0m\u001b[0;34m]\u001b[0m\u001b[0;34m(\u001b[0m\u001b[0mself\u001b[0m\u001b[0;34m.\u001b[0m\u001b[0mf\u001b[0m\u001b[0;34m,\u001b[0m \u001b[0;34m**\u001b[0m\u001b[0mself\u001b[0m\u001b[0;34m.\u001b[0m\u001b[0moptions\u001b[0m\u001b[0;34m)\u001b[0m  \u001b[0;31m# type: ignore[call-arg]\u001b[0m\u001b[0;34m\u001b[0m\u001b[0;34m\u001b[0m\u001b[0m\n\u001b[0m\u001b[1;32m   1041\u001b[0m \u001b[0;34m\u001b[0m\u001b[0m\n\u001b[1;32m   1042\u001b[0m     \u001b[0;32mdef\u001b[0m \u001b[0m_failover_to_python\u001b[0m\u001b[0;34m(\u001b[0m\u001b[0mself\u001b[0m\u001b[0;34m)\u001b[0m\u001b[0;34m:\u001b[0m\u001b[0;34m\u001b[0m\u001b[0;34m\u001b[0m\u001b[0m\n",
            "\u001b[0;32m/usr/local/lib/python3.7/dist-packages/pandas/io/parsers/c_parser_wrapper.py\u001b[0m in \u001b[0;36m__init__\u001b[0;34m(self, src, **kwds)\u001b[0m\n\u001b[1;32m     49\u001b[0m \u001b[0;34m\u001b[0m\u001b[0m\n\u001b[1;32m     50\u001b[0m         \u001b[0;31m# open handles\u001b[0m\u001b[0;34m\u001b[0m\u001b[0;34m\u001b[0m\u001b[0;34m\u001b[0m\u001b[0m\n\u001b[0;32m---> 51\u001b[0;31m         \u001b[0mself\u001b[0m\u001b[0;34m.\u001b[0m\u001b[0m_open_handles\u001b[0m\u001b[0;34m(\u001b[0m\u001b[0msrc\u001b[0m\u001b[0;34m,\u001b[0m \u001b[0mkwds\u001b[0m\u001b[0;34m)\u001b[0m\u001b[0;34m\u001b[0m\u001b[0;34m\u001b[0m\u001b[0m\n\u001b[0m\u001b[1;32m     52\u001b[0m         \u001b[0;32massert\u001b[0m \u001b[0mself\u001b[0m\u001b[0;34m.\u001b[0m\u001b[0mhandles\u001b[0m \u001b[0;32mis\u001b[0m \u001b[0;32mnot\u001b[0m \u001b[0;32mNone\u001b[0m\u001b[0;34m\u001b[0m\u001b[0;34m\u001b[0m\u001b[0m\n\u001b[1;32m     53\u001b[0m \u001b[0;34m\u001b[0m\u001b[0m\n",
            "\u001b[0;32m/usr/local/lib/python3.7/dist-packages/pandas/io/parsers/base_parser.py\u001b[0m in \u001b[0;36m_open_handles\u001b[0;34m(self, src, kwds)\u001b[0m\n\u001b[1;32m    227\u001b[0m             \u001b[0mmemory_map\u001b[0m\u001b[0;34m=\u001b[0m\u001b[0mkwds\u001b[0m\u001b[0;34m.\u001b[0m\u001b[0mget\u001b[0m\u001b[0;34m(\u001b[0m\u001b[0;34m\"memory_map\"\u001b[0m\u001b[0;34m,\u001b[0m \u001b[0;32mFalse\u001b[0m\u001b[0;34m)\u001b[0m\u001b[0;34m,\u001b[0m\u001b[0;34m\u001b[0m\u001b[0;34m\u001b[0m\u001b[0m\n\u001b[1;32m    228\u001b[0m             \u001b[0mstorage_options\u001b[0m\u001b[0;34m=\u001b[0m\u001b[0mkwds\u001b[0m\u001b[0;34m.\u001b[0m\u001b[0mget\u001b[0m\u001b[0;34m(\u001b[0m\u001b[0;34m\"storage_options\"\u001b[0m\u001b[0;34m,\u001b[0m \u001b[0;32mNone\u001b[0m\u001b[0;34m)\u001b[0m\u001b[0;34m,\u001b[0m\u001b[0;34m\u001b[0m\u001b[0;34m\u001b[0m\u001b[0m\n\u001b[0;32m--> 229\u001b[0;31m             \u001b[0merrors\u001b[0m\u001b[0;34m=\u001b[0m\u001b[0mkwds\u001b[0m\u001b[0;34m.\u001b[0m\u001b[0mget\u001b[0m\u001b[0;34m(\u001b[0m\u001b[0;34m\"encoding_errors\"\u001b[0m\u001b[0;34m,\u001b[0m \u001b[0;34m\"strict\"\u001b[0m\u001b[0;34m)\u001b[0m\u001b[0;34m,\u001b[0m\u001b[0;34m\u001b[0m\u001b[0;34m\u001b[0m\u001b[0m\n\u001b[0m\u001b[1;32m    230\u001b[0m         )\n\u001b[1;32m    231\u001b[0m \u001b[0;34m\u001b[0m\u001b[0m\n",
            "\u001b[0;32m/usr/local/lib/python3.7/dist-packages/pandas/io/common.py\u001b[0m in \u001b[0;36mget_handle\u001b[0;34m(path_or_buf, mode, encoding, compression, memory_map, is_text, errors, storage_options)\u001b[0m\n\u001b[1;32m    705\u001b[0m                 \u001b[0mencoding\u001b[0m\u001b[0;34m=\u001b[0m\u001b[0mioargs\u001b[0m\u001b[0;34m.\u001b[0m\u001b[0mencoding\u001b[0m\u001b[0;34m,\u001b[0m\u001b[0;34m\u001b[0m\u001b[0;34m\u001b[0m\u001b[0m\n\u001b[1;32m    706\u001b[0m                 \u001b[0merrors\u001b[0m\u001b[0;34m=\u001b[0m\u001b[0merrors\u001b[0m\u001b[0;34m,\u001b[0m\u001b[0;34m\u001b[0m\u001b[0;34m\u001b[0m\u001b[0m\n\u001b[0;32m--> 707\u001b[0;31m                 \u001b[0mnewline\u001b[0m\u001b[0;34m=\u001b[0m\u001b[0;34m\"\"\u001b[0m\u001b[0;34m,\u001b[0m\u001b[0;34m\u001b[0m\u001b[0;34m\u001b[0m\u001b[0m\n\u001b[0m\u001b[1;32m    708\u001b[0m             )\n\u001b[1;32m    709\u001b[0m         \u001b[0;32melse\u001b[0m\u001b[0;34m:\u001b[0m\u001b[0;34m\u001b[0m\u001b[0;34m\u001b[0m\u001b[0m\n",
            "\u001b[0;31mFileNotFoundError\u001b[0m: [Errno 2] No such file or directory: 'owid-covid-data.csv'"
          ]
        }
      ]
    },
    {
      "cell_type": "code",
      "source": [
        "dataset2.shape"
      ],
      "metadata": {
        "id": "SrkeiCLF1BLK"
      },
      "execution_count": null,
      "outputs": []
    },
    {
      "cell_type": "code",
      "source": [
        "dataset2.index"
      ],
      "metadata": {
        "id": "O0b-txaE1Atg"
      },
      "execution_count": null,
      "outputs": []
    },
    {
      "cell_type": "code",
      "source": [
        "dataset2.columns"
      ],
      "metadata": {
        "id": "hLpDGuaX1GMq"
      },
      "execution_count": null,
      "outputs": []
    },
    {
      "cell_type": "code",
      "source": [
        "print(dataset2.info())"
      ],
      "metadata": {
        "id": "K6k4QG0V3F-E"
      },
      "execution_count": null,
      "outputs": []
    },
    {
      "cell_type": "code",
      "source": [
        "for col in dataset2.columns:\n",
        "    nulos=dataset2[col].isna().sum()\n",
        "    print(col, \"{:.2f}%\".format(nulos*100/135153))"
      ],
      "metadata": {
        "id": "7uDWkBnq3X56"
      },
      "execution_count": null,
      "outputs": []
    },
    {
      "cell_type": "markdown",
      "source": [
        "Vamos a observar los paises que se encuentran en el dataset.\n",
        "\n",
        "Notamos tambien que hay instancias que se denominan, por ejemplo \"High income\", \"Lower middle income\", \"European Union\", \"Europe\", esto genera que haya muchos missing values en datos sensibles para el anáisis por lo que vamos a identificarlas y eliminarlas, ya hemos identificado que se denominan OWID."
      ],
      "metadata": {
        "id": "DTGpY__O3bnD"
      }
    },
    {
      "cell_type": "code",
      "source": [
        "df2 = pd.DataFrame(dataset2.location.value_counts())\n",
        "pd.set_option('display.max_rows', None)\n",
        "pd.set_option('display.max_columns', None)\n",
        "pd.set_option('display.width', None)\n",
        "pd.set_option('display.max_colwidth', -1)\n",
        "print(df2)"
      ],
      "metadata": {
        "id": "iDQfzxcUCpJn"
      },
      "execution_count": null,
      "outputs": []
    },
    {
      "cell_type": "markdown",
      "source": [
        "Generamos un pequeño data set con las intancias que tenga OWID."
      ],
      "metadata": {
        "id": "id_hkSgrDHhQ"
      }
    },
    {
      "cell_type": "code",
      "source": [
        "dataset_OWID=dataset2[dataset2[\"iso_code\"].str.contains(\"OWID\")]\n",
        "sum_OWID_NCases=dataset_OWID[\"new_cases\"].sum()\n",
        "sum_OWID_NCases"
      ],
      "metadata": {
        "id": "dkGsgPUOCyfR"
      },
      "execution_count": null,
      "outputs": []
    },
    {
      "cell_type": "markdown",
      "source": [
        "Vemos cuales son los OWID que tenemos que eliminar."
      ],
      "metadata": {
        "id": "tECpDvp6i3-V"
      }
    },
    {
      "cell_type": "code",
      "source": [
        "print(dataset_OWID.shape)\n",
        "dataset_OWID[\"iso_code\"].unique()"
      ],
      "metadata": {
        "id": "a0JSswxmDRXJ"
      },
      "execution_count": null,
      "outputs": []
    },
    {
      "cell_type": "markdown",
      "source": [
        "Generamos un dataset que no contengan estos OWID, este data set es en el que vamos a trabajar."
      ],
      "metadata": {
        "id": "l1YKQ1YgDQhL"
      }
    },
    {
      "cell_type": "code",
      "source": [
        "dataset_not_OWID=dataset2.set_index(\"iso_code\")"
      ],
      "metadata": {
        "id": "-3nbH1VKDc80"
      },
      "execution_count": null,
      "outputs": []
    },
    {
      "cell_type": "code",
      "source": [
        "dataset_not_OWID=dataset_not_OWID.drop(['OWID_AFR', 'OWID_ASI', 'OWID_EUR', 'OWID_EUN', 'OWID_HIC',\n",
        "       'OWID_INT', 'OWID_KOS', 'OWID_LIC', 'OWID_LMC', 'OWID_NAM',\n",
        "       'OWID_CYN', 'OWID_OCE', 'OWID_SAM'])"
      ],
      "metadata": {
        "id": "jxEj3nErD3k0"
      },
      "execution_count": null,
      "outputs": []
    },
    {
      "cell_type": "code",
      "source": [
        "dataset_not_OWID.reset_index(inplace=True)"
      ],
      "metadata": {
        "id": "RIHGA3UjD_ba"
      },
      "execution_count": null,
      "outputs": []
    },
    {
      "cell_type": "code",
      "source": [
        "print(dataset_not_OWID.shape)\n",
        "dataset_not_OWID.head()"
      ],
      "metadata": {
        "id": "rzsuT2TPEE8Z"
      },
      "execution_count": null,
      "outputs": []
    },
    {
      "cell_type": "code",
      "source": [
        "sum_not_OWID_NCases=dataset_not_OWID[\"new_cases\"].sum()\n",
        "sum_not_OWID_NCases"
      ],
      "metadata": {
        "id": "q9iKHRvgEPIq"
      },
      "execution_count": null,
      "outputs": []
    },
    {
      "cell_type": "markdown",
      "source": [
        "Corroboramos que no quede ninguno"
      ],
      "metadata": {
        "id": "4wvY6aS_EfBl"
      }
    },
    {
      "cell_type": "code",
      "source": [
        "dataset_not_OWID[\"iso_code\"].unique()"
      ],
      "metadata": {
        "id": "-JQTmGTbEu9K"
      },
      "execution_count": null,
      "outputs": []
    },
    {
      "cell_type": "markdown",
      "source": [
        "Volvamos a revisar la forma que tendrá este dataset"
      ],
      "metadata": {
        "id": "cRSnaT9qj70y"
      }
    },
    {
      "cell_type": "code",
      "source": [
        "dataset_not_OWID.shape"
      ],
      "metadata": {
        "id": "N5LreLNRFB2o"
      },
      "execution_count": null,
      "outputs": []
    },
    {
      "cell_type": "markdown",
      "source": [
        "Al haber tanta informacion, procedemos a eliminar las columnas que no vamos a utilizar para poder reducir la dimensionalidad que presenta la base de datos."
      ],
      "metadata": {
        "id": "8Dy0zi0GnKE9"
      }
    },
    {
      "cell_type": "code",
      "source": [
        "columnas_descartar= ['excess_mortality_cumulative_absolute', 'excess_mortality_cumulative',\n",
        "                     'excess_mortality', 'excess_mortality_cumulative_per_million', 'human_development_index', 'life_expectancy' ,     \n",
        "                     'female_smokers', 'male_smokers','handwashing_facilities','diabetes_prevalence', 'cardiovasc_death_rate', 'gdp_per_capita',\n",
        "                     'extreme_poverty','aged_65_older','aged_70_older', 'new_people_vaccinated_smoothed',\n",
        "                     'new_people_vaccinated_smoothed_per_hundred', 'new_vaccinations_smoothed_per_million','iso_code', 'continent',\n",
        "                     'total_boosters', 'total_boosters_per_hundred','new_vaccinations_smoothed', 'total_vaccinations_per_hundred',\n",
        "                     'total_vaccinations','tests_per_case', 'tests_units','new_tests_smoothed', 'new_tests_smoothed_per_thousand',\n",
        "                     'new_deaths_smoothed','new_cases_smoothed','new_cases_smoothed_per_million','new_deaths_smoothed_per_million',\n",
        "                     'weekly_icu_admissions','weekly_icu_admissions_per_million', 'weekly_hosp_admissions','weekly_hosp_admissions_per_million',\n",
        "                     \"total_tests_per_thousand\",\"new_tests_per_thousand\",\"people_vaccinated_per_hundred\",\n",
        "                     \"people_fully_vaccinated_per_hundred\",\"median_age\",\"new_tests\",\"total_tests\",\"people_fully_vaccinated\",\"new_vaccinations\",\"total_deaths\",\n",
        "                     \"new_deaths_per_million\",\"total_deaths_per_million\",\"new_cases_per_million\",\"total_cases_per_million\"\n",
        "                     , \"icu_patients_per_million\",\"total_deaths\",\"hosp_patients\",\"positive_rate\"]\n",
        "                    \n",
        "dataset_covid  =dataset_not_OWID.drop(columns=columnas_descartar)\n",
        "print(dataset_covid.shape)\n",
        "dataset_covid.head()"
      ],
      "metadata": {
        "id": "v7Qx_2_OFao6"
      },
      "execution_count": null,
      "outputs": []
    },
    {
      "cell_type": "markdown",
      "source": [
        "Normalizamos las columnas que utilizaremos llevandolas a la escala de 100 mil por habitantes."
      ],
      "metadata": {
        "id": "J2AigLfdFkTs"
      }
    },
    {
      "cell_type": "code",
      "source": [
        "def _population(fila):\n",
        "    resultado=(fila[\"population\"]/100000)\n",
        "    return resultado"
      ],
      "metadata": {
        "id": "XVPym2uCF8ag"
      },
      "execution_count": null,
      "outputs": []
    },
    {
      "cell_type": "code",
      "source": [
        "dataset_covid[\"population_per_100Thousand\"]=dataset_covid.apply( _population,axis=1)"
      ],
      "metadata": {
        "id": "T5rCJF6VGAt9"
      },
      "execution_count": null,
      "outputs": []
    },
    {
      "cell_type": "code",
      "source": [
        "dataset_covid[\"total_cases_per_100Thousand\"]=dataset_covid.apply(lambda row: row[\"total_cases\"]/row['population']* 100000, axis=1)\n",
        "dataset_covid[\"new_cases_per_100Thousand\"]=dataset_covid.apply(lambda row: row[\"new_cases\"]/row['population']* 100000, axis=1)\n",
        "dataset_covid[\"new_deaths_per_100Thousand\"]=dataset_covid.apply(lambda row: row[\"new_deaths\"]/row['population']* 100000, axis=1)\n",
        "dataset_covid[\"population_density_per_100Thousand\"]=dataset_covid.apply(lambda row: row[\"population_density\"]/100000, axis=1)"
      ],
      "metadata": {
        "id": "wiwbPq4hGH9j"
      },
      "execution_count": null,
      "outputs": []
    },
    {
      "cell_type": "markdown",
      "source": [
        "Luego de convertidas, eliminamos las columnas originales."
      ],
      "metadata": {
        "id": "OuYMO2TrGS6v"
      }
    },
    {
      "cell_type": "code",
      "source": [
        "columnas_Descartar= [\"population\",\"total_cases\",\"new_cases\",\"new_deaths\",\"population_density\"]\n",
        "dataset_covid =dataset_covid.drop(columns=columnas_Descartar)\n",
        "print(dataset_covid.shape)\n",
        "dataset_covid.head()"
      ],
      "metadata": {
        "id": "p0qpVHRFGVly"
      },
      "execution_count": null,
      "outputs": []
    },
    {
      "cell_type": "markdown",
      "source": [
        "Observamos que hay muchas casos faltantes pero por ahora no nos vamos a ocupar."
      ],
      "metadata": {
        "id": "ptO_wV4iGveJ"
      }
    },
    {
      "cell_type": "code",
      "source": [
        "for col in dataset_covid.columns:\n",
        "    nulos=dataset_covid[col].isna().sum()\n",
        "    print(col, \"{:.2f}%\".format(nulos*100/125607))"
      ],
      "metadata": {
        "id": "16KMnRWsG9NN"
      },
      "execution_count": null,
      "outputs": []
    },
    {
      "cell_type": "markdown",
      "source": [
        "Lo primero que haremos es observar la curva de contagios de 10 paises del norte, que es donde mas temprano de propago el virus.\n",
        "\n",
        "\n"
      ],
      "metadata": {
        "id": "mdons4REIPzh"
      }
    },
    {
      "cell_type": "markdown",
      "source": [
        "## Gráficos"
      ],
      "metadata": {
        "id": "r4rVOdt4n0WW"
      }
    },
    {
      "cell_type": "markdown",
      "source": [
        "Lo primero que haremos es observar la curva de contagios de 10 paises del norte, que es donde más temprano de propagó el virus."
      ],
      "metadata": {
        "id": "d_83oYx9n7cS"
      }
    },
    {
      "cell_type": "code",
      "source": [
        "paises=dataset_covid['location'] #cargo el vector de paises\n",
        "confirmados=dataset_covid['total_cases_per_100Thousand'] #carga vector todos los casos confirmados"
      ],
      "metadata": {
        "id": "WwpzjjjuIEsd"
      },
      "execution_count": null,
      "outputs": []
    },
    {
      "cell_type": "code",
      "source": [
        "lista_paises_norte=['Denmark','Sweden','United States','France','Canada','Germany','Finland','United Kingdom','Spain','Italy']"
      ],
      "metadata": {
        "id": "b5bXH6n6IX14"
      },
      "execution_count": null,
      "outputs": []
    },
    {
      "cell_type": "code",
      "source": [
        "for i in lista_paises_norte:\n",
        "    ind_=np.where(paises==i)\n",
        "    ind_=ind_[0]\n",
        "    casos_=confirmados[ind_]\n",
        "    dias=np.arange(0,len(casos_))\n",
        "    plt.plot(dias,casos_,label=i)\n",
        "    plt.title(\"Casos de covid-19 por pais\")\n",
        "    plt.xlabel('dias')\n",
        "    plt.ylabel('cantidad de casos_per_100Thousand')    \n",
        "    plt.grid()\n",
        "    plt.legend()"
      ],
      "metadata": {
        "id": "NaPc0trKIkLM"
      },
      "execution_count": null,
      "outputs": []
    },
    {
      "cell_type": "markdown",
      "source": [
        "Estas son las curvas de *casos totales por 100K habitantes* de los 10 paises seleccionados. Aquí no se ven las olas, ya que estas se ven en la curva de casos confirmados por día, es decir, de casos nuevos. Esta habla de los acumulados, entonces siempre se agregan.\n",
        "\n",
        "Para ver mejor la curva, podemos tomar el logartimo de los datos. Una curva exponencial se ve lineal en escala logarítmica"
      ],
      "metadata": {
        "id": "NsoQW0PyI9NG"
      }
    },
    {
      "cell_type": "code",
      "source": [
        "for i in lista_paises_norte:\n",
        "    ind_=np.where(paises==i)\n",
        "    ind_=ind_[0]\n",
        "    casos_=confirmados[ind_]\n",
        "    dias=np.arange(0,len(casos_))\n",
        "    plt.plot(dias,np.log(casos_),label=i)\n",
        "    plt.title(\"Casos de covid-19 por pais-log\")\n",
        "    plt.xlabel('dias')\n",
        "    plt.ylabel('log cantidad de casos_per_100Thousand')\n",
        "    plt.grid()\n",
        "    plt.legend()"
      ],
      "metadata": {
        "id": "aofvb9FaI0EP"
      },
      "execution_count": null,
      "outputs": []
    },
    {
      "cell_type": "markdown",
      "source": [
        "Veamos lo que pasa en los primeros 90 días desde que se detectó el primer caso en estos paises, para ver cómo fue el  inicial."
      ],
      "metadata": {
        "id": "LnAPU4T7JR8Y"
      }
    },
    {
      "cell_type": "code",
      "source": [
        "for i in lista_paises_norte:\n",
        "    ind_=np.where(paises==i)\n",
        "    ind_=ind_[0]\n",
        "    casos_=confirmados[ind_]\n",
        "    casos_principio=casos_[0:90]\n",
        "    dias_principio=dias[0:90] \n",
        "    plt.plot(dias_principio,casos_principio,label=i)\n",
        "    plt.title(\"Casos de covid-19 por pais- dias 0 a 90\")\n",
        "    plt.xlabel('dias')\n",
        "    plt.ylabel('cantidad de casos_per_100Thousand')\n",
        "    plt.grid()\n",
        "    plt.legend()"
      ],
      "metadata": {
        "id": "UOLA3kTcJRIE"
      },
      "execution_count": null,
      "outputs": []
    },
    {
      "cell_type": "markdown",
      "source": [
        "Es difícil determinar si estas partes son exponenciales. Analicemos qué pasa en escala logarítmica."
      ],
      "metadata": {
        "id": "X5QoXvzaJivf"
      }
    },
    {
      "cell_type": "code",
      "source": [
        "for i in lista_paises_norte:\n",
        "    ind_=np.where(paises==i)\n",
        "    ind_=ind_[0]\n",
        "    casos_=confirmados[ind_]\n",
        "    casos_principio=casos_[0:90]\n",
        "    dias_principio=dias[0:90]\n",
        "    plt.plot(dias_principio,np.log(casos_principio),label=i)\n",
        "    plt.title(\"Casos de covid-19 por pais-Logaritmica- dias 0 a 90\")\n",
        "    plt.xlabel('dias')\n",
        "    plt.ylabel('log cantidad de casos_per_100Thousand')\n",
        "    plt.grid()\n",
        "    plt.legend()"
      ],
      "metadata": {
        "id": "m_14S85KJcI9"
      },
      "execution_count": null,
      "outputs": []
    },
    {
      "cell_type": "markdown",
      "source": [
        "Tomaremos diferentes periodos de tiempo para diferentes paises ya que ese fue el comportamiento más sostenido se da en tiempos diferentes en muchos de ellos."
      ],
      "metadata": {
        "id": "AxJxieIPpgI9"
      }
    },
    {
      "cell_type": "code",
      "source": [
        "lista_paises_norteA=['Denmark','Sweden','Canada','Germany','Finland','United Kingdom','Spain']\n",
        "for i in lista_paises_norteA:\n",
        "    ind_=np.where(paises==i)\n",
        "    ind_=ind_[0]\n",
        "    casos_=confirmados[ind_]\n",
        "    casos_principio=casos_[25:71]\n",
        "    dias_principio=dias[25:71]\n",
        "    plt.plot(dias_principio,casos_principio,label=i)\n",
        "    plt.title(\"Casos de covid-19 por pais- dias 25 a 71\")\n",
        "    plt.xlabel('dias')\n",
        "    plt.ylabel('cantidad de casos_per_100Thousand')\n",
        "    plt.grid()\n",
        "    plt.legend()\n"
      ],
      "metadata": {
        "id": "NNGOb-HhJ16t"
      },
      "execution_count": null,
      "outputs": []
    },
    {
      "cell_type": "code",
      "source": [
        "ind_=np.where(paises==\"France\")\n",
        "ind_=ind_[0]\n",
        "casos_=confirmados[ind_]\n",
        "casos_principio=casos_[30:71]\n",
        "dias_principio=dias[30:71]\n",
        "plt.plot(dias_principio,casos_principio,color=\"r\",label=\"France\")\n",
        "plt.title(\"Casos de covid-19 por pais- dias 30 a 71\")\n",
        "plt.xlabel('dias')\n",
        "plt.ylabel('cantidad de casos_por_millon')\n",
        "plt.grid()\n",
        "plt.legend()"
      ],
      "metadata": {
        "id": "LMJjOCPPKUK8"
      },
      "execution_count": null,
      "outputs": []
    },
    {
      "cell_type": "markdown",
      "source": [
        ""
      ],
      "metadata": {
        "id": "wuvet8XHJ1rs"
      }
    },
    {
      "cell_type": "code",
      "source": [
        "ind_=np.where(paises=='Italy')\n",
        "ind_=ind_[0]\n",
        "casos_=confirmados[ind_]\n",
        "casos_principio=casos_[20:71]\n",
        "dias_principio=dias[20:71]\n",
        "plt.plot(dias_principio,casos_principio,color=\"skyblue\",label=\"Italy\")\n",
        "plt.title(\"Casos de covid-19 por pais- dias 20 a 71\")\n",
        "plt.xlabel('dias')\n",
        "plt.ylabel('cantidad de casos_por_millon')\n",
        "plt.grid()\n",
        "plt.legend()"
      ],
      "metadata": {
        "id": "RHRIx4NqLXxc"
      },
      "execution_count": null,
      "outputs": []
    },
    {
      "cell_type": "code",
      "source": [
        "ind_=np.where(paises=='United States')\n",
        "ind_=ind_[0]\n",
        "casos_=confirmados[ind_]\n",
        "casos_principio=casos_[40:71]\n",
        "dias_principio=dias[40:71]\n",
        "plt.plot(dias_principio,casos_principio,color=\"grey\",label='United States')\n",
        "plt.title(\"Casos de covid-19 por pais- dias 40 a 71\")\n",
        "plt.xlabel('dias')\n",
        "plt.ylabel('cantidad de casos_por_millon')\n",
        "plt.grid()\n",
        "plt.legend()"
      ],
      "metadata": {
        "id": "wFKVv97vLjl2"
      },
      "execution_count": null,
      "outputs": []
    },
    {
      "cell_type": "markdown",
      "source": [
        "Observando los cuatro graficos Logaritmicos notamos que los periodos seleccionados para los diferentes paises estan correctos, ya que se puede observar que las curvas exponenciales llevadas a logaritmica se asemejan a lineales y esto se puede notar con facilidad en los graficos."
      ],
      "metadata": {
        "id": "C-Wnuen3p1QL"
      }
    },
    {
      "cell_type": "code",
      "source": [
        "for i in lista_paises_norteA:\n",
        "    ind_=np.where(paises==i)\n",
        "    ind_=ind_[0]\n",
        "    casos_=confirmados[ind_]\n",
        "    casos_principio=casos_[25:71]\n",
        "    dias_principio=dias[25:71]\n",
        "    plt.plot(dias_principio,np.log(casos_principio),label=i)\n",
        "    plt.title(\"Casos de covid-19 por pais-LOGARITMICA- dias 25 a 71\")\n",
        "    plt.xlabel('dias')\n",
        "    plt.ylabel('log cantidad de casos_per_100Thousand')\n",
        "    plt.grid()\n",
        "    plt.legend()"
      ],
      "metadata": {
        "id": "QlJlg68YL7Qq"
      },
      "execution_count": null,
      "outputs": []
    },
    {
      "cell_type": "code",
      "source": [
        "ind_=np.where(paises==\"France\")\n",
        "ind_=ind_[0]\n",
        "casos_=confirmados[ind_]\n",
        "casos_principio=casos_[40:71]\n",
        "dias_principio=dias[40:71]\n",
        "plt.plot(dias_principio,np.log(casos_principio),color=\"r\",label=\"France\")\n",
        "plt.title(\"Casos de covid-19 por pais-LOGARITMICA- dias 40 a 71\")\n",
        "plt.xlabel('dias')\n",
        "plt.ylabel('log cantidad de casos_por_millon')\n",
        "plt.grid()\n",
        "plt.legend()"
      ],
      "metadata": {
        "id": "YXsROQRcMA8w"
      },
      "execution_count": null,
      "outputs": []
    },
    {
      "cell_type": "code",
      "source": [
        "ind_=np.where(paises=='Italy')\n",
        "ind_=ind_[0]\n",
        "casos_=confirmados[ind_]\n",
        "casos_principio=casos_[40:71]\n",
        "dias_principio=dias[40:71]\n",
        "plt.plot(dias_principio,np.log(casos_principio),color=\"skyblue\",label=\"Italy\")\n",
        "plt.title(\"Casos de covid-19 por pais-LOGARITMICA- dias 40 a 71\")\n",
        "plt.xlabel('dias')\n",
        "plt.ylabel('log cantidad de casos_por_millon')\n",
        "plt.grid()\n",
        "plt.legend()"
      ],
      "metadata": {
        "id": "_fcY2DAEMiKx"
      },
      "execution_count": null,
      "outputs": []
    },
    {
      "cell_type": "code",
      "source": [
        "ind_=np.where(paises=='United States')\n",
        "ind_=ind_[0]\n",
        "casos_=confirmados[ind_]\n",
        "casos_principio=casos_[40:71]\n",
        "dias_principio=dias[40:71]\n",
        "plt.plot(dias_principio,np.log(casos_principio),color=\"grey\",label='United States')\n",
        "plt.title(\"Casos de covid-19 por pais-LOGARITMICA- dias 40 a 71\")\n",
        "plt.xlabel('dias')\n",
        "plt.ylabel('log cantidad de casos_por_millon')\n",
        "plt.grid()\n",
        "plt.legend()"
      ],
      "metadata": {
        "id": "Svv_07YzMq9o"
      },
      "execution_count": null,
      "outputs": []
    },
    {
      "cell_type": "markdown",
      "source": [
        "## ¿Cuál es el k de cada país?"
      ],
      "metadata": {
        "id": "fyuD-DGUqCbI"
      }
    },
    {
      "cell_type": "markdown",
      "source": [
        "Averiguaremos el  utilizando un ajuste hecho con el método de cuadrados mínimos, ajustando los datos al modelo ."
      ],
      "metadata": {
        "id": "KGfhtsIjMu2K"
      }
    },
    {
      "cell_type": "markdown",
      "source": [
        "\n",
        "\n",
        "Confirmados = e^{k(\\t - \\t_0)}"
      ],
      "metadata": {
        "id": "weXF5o5dqJ6t"
      }
    },
    {
      "cell_type": "code",
      "source": [
        "#definimos función para ajustar modelo\n",
        "def exponencial(t,k,t0):\n",
        "  C=np.exp(k*(t-t0))\n",
        "  return C"
      ],
      "metadata": {
        "id": "MfWKjlC5NUrF"
      },
      "execution_count": null,
      "outputs": []
    },
    {
      "cell_type": "code",
      "source": [
        "ind_=np.where(paises=='United States')\n",
        "ind_=ind_[0]\n",
        "casos_=confirmados[ind_]\n",
        "casos_principioUS=casos_[40:71]\n",
        "dias_principioUS=dias[40:71]\n",
        "#ajustamos\n",
        "popt, pcov = curve_fit(exponencial, dias_principioUS, casos_principioUS)\n",
        "popt"
      ],
      "metadata": {
        "id": "SKdZDEOoDwnE"
      },
      "execution_count": null,
      "outputs": []
    },
    {
      "cell_type": "code",
      "source": [
        "kUS=popt[0]\n",
        "t0=popt[1]\n",
        "casos_simuUS=exponencial(dias_principioUS,kUS,t0)\n",
        "plt.plot(dias_principioUS,casos_principioUS,'.')\n",
        "plt.plot(dias_principioUS,casos_simuUS)\n",
        "plt.title(\"Casos de 'United States'.SUMULADO VS REAL\")\n",
        "plt.xlabel('dias')\n",
        "plt.ylabel('cantidad de casos_per_100Thousand')"
      ],
      "metadata": {
        "id": "N6d79qkIEeb2"
      },
      "execution_count": null,
      "outputs": []
    },
    {
      "cell_type": "markdown",
      "source": [
        "El ajuste es muy bueno."
      ],
      "metadata": {
        "id": "309Pus5tEodN"
      }
    },
    {
      "cell_type": "code",
      "source": [
        "ind_=np.where(paises=='France')\n",
        "ind_=ind_[0]\n",
        "casos_=confirmados[ind_]\n",
        "casos_principioFR=casos_[30:71]\n",
        "dias_principioFR=dias[30:71]\n",
        "#ajustamos\n",
        "popt, pcov = curve_fit(exponencial, dias_principioFR, casos_principioFR)\n",
        "popt"
      ],
      "metadata": {
        "id": "AWXDRWGSEnE3"
      },
      "execution_count": null,
      "outputs": []
    },
    {
      "cell_type": "code",
      "source": [
        "kFR=popt[0]\n",
        "t0=popt[1]\n",
        "casos_simuFR=exponencial(dias_principioFR,kFR,t0)\n",
        "plt.plot(dias_principioFR,casos_principioFR,'.')\n",
        "plt.plot(dias_principioFR,casos_simuFR)\n",
        "plt.title(\"Casos de 'France'.SUMULADO VS REAL\")\n",
        "plt.xlabel('dias')\n",
        "plt.ylabel('cantidad de casos_per_100Thousand')"
      ],
      "metadata": {
        "id": "R-mXEmYcEscZ"
      },
      "execution_count": null,
      "outputs": []
    },
    {
      "cell_type": "code",
      "source": [
        "ind_=np.where(paises=='Canada')\n",
        "ind_=ind_[0]\n",
        "casos_=confirmados[ind_]\n",
        "casos_principioCA=casos_[25:71]\n",
        "dias_principioCA=dias[25:71]\n",
        "#ajustamos\n",
        "popt, pcov = curve_fit(exponencial, dias_principioCA, casos_principioCA)\n",
        "popt"
      ],
      "metadata": {
        "id": "kjALHTM2EwUP"
      },
      "execution_count": null,
      "outputs": []
    },
    {
      "cell_type": "code",
      "source": [
        "kCA=popt[0]\n",
        "t0=popt[1]\n",
        "casos_simuCA=exponencial(dias_principioCA,kCA,t0)\n",
        "plt.plot(dias_principioCA,casos_principioCA,'.')\n",
        "plt.plot(dias_principioCA,casos_simuCA)\n",
        "plt.title(\"Casos de 'Canada'.SUMULADO VS REAL\")\n",
        "plt.xlabel('dias')\n",
        "plt.ylabel('cantidad de casos_per_100Thousand')"
      ],
      "metadata": {
        "id": "ms1KJSnUE1al"
      },
      "execution_count": null,
      "outputs": []
    },
    {
      "cell_type": "code",
      "source": [
        "ind_=np.where(paises=='Germany')\n",
        "ind_=ind_[0]\n",
        "casos_=confirmados[ind_]\n",
        "casos_principioGR=casos_[25:71]\n",
        "dias_principioGR=dias[25:71]\n",
        "#ajustamos\n",
        "popt, pcov = curve_fit(exponencial, dias_principioGR, casos_principioGR)\n",
        "popt"
      ],
      "metadata": {
        "id": "zvBT04-FE4yk"
      },
      "execution_count": null,
      "outputs": []
    },
    {
      "cell_type": "code",
      "source": [
        "kGE=popt[0]\n",
        "t0=popt[1]\n",
        "casos_simuGR=exponencial(dias_principioGR,kGE,t0)\n",
        "plt.plot(dias_principioGR,casos_principioGR,'.')\n",
        "plt.plot(dias_principioGR,casos_simuGR)\n",
        "plt.title(\"Casos 'Germany'.SUMULADO VS REAL\")\n",
        "plt.xlabel('dias')\n",
        "plt.ylabel('cantidad de casos_per_100Thousand')"
      ],
      "metadata": {
        "id": "T5iIrMbbGb6z"
      },
      "execution_count": null,
      "outputs": []
    },
    {
      "cell_type": "code",
      "source": [
        "ind_=np.where(paises=='Finland')\n",
        "ind_=ind_[0]\n",
        "casos_=confirmados[ind_]\n",
        "casos_principioFI=casos_[25:71]\n",
        "dias_principioFI=dias[25:71]\n",
        "#ajustamos\n",
        "popt, pcov = curve_fit(exponencial, dias_principioFI, casos_principioFI)\n",
        "popt"
      ],
      "metadata": {
        "id": "nv7YDnzNGfWS"
      },
      "execution_count": null,
      "outputs": []
    },
    {
      "cell_type": "code",
      "source": [
        "kFI=popt[0]\n",
        "t0=popt[1]\n",
        "casos_simuFI=exponencial(dias_principioFI,kFI,t0)\n",
        "plt.plot(dias_principioFI,casos_principioFI,'.')\n",
        "plt.plot(dias_principioFI,casos_simuFI)\n",
        "plt.title(\"Casos de 'Finland'.SUMULADO VS REAL\")\n",
        "plt.xlabel('dias')\n",
        "plt.ylabel('cantidad de casos_per_100Thousand')"
      ],
      "metadata": {
        "id": "hpWMmQzRGi8v"
      },
      "execution_count": null,
      "outputs": []
    },
    {
      "cell_type": "code",
      "source": [
        "ind_=np.where(paises=='United Kingdom')\n",
        "ind_=ind_[0]\n",
        "casos_=confirmados[ind_]\n",
        "casos_principioUK=casos_[25:71]\n",
        "dias_principioUK=dias[25:71]\n",
        "#ajustamos\n",
        "popt, pcov = curve_fit(exponencial, dias_principioUK, casos_principioUK)\n",
        "popt"
      ],
      "metadata": {
        "id": "7ClkN17sG3wR"
      },
      "execution_count": null,
      "outputs": []
    },
    {
      "cell_type": "code",
      "source": [
        "kUK=popt[0]\n",
        "t0=popt[1]\n",
        "casos_simuUK=exponencial(dias_principioUK,kUK,t0)\n",
        "plt.plot(dias_principioUK,casos_principioUK,'.')\n",
        "plt.plot(dias_principioUK,casos_simuUK)\n",
        "plt.title(\"Casos de 'United Kingdom'.SUMULADO VS REAL\")\n",
        "plt.xlabel('dias')\n",
        "plt.ylabel('cantidad de casos_per_100Thousand')"
      ],
      "metadata": {
        "id": "a4rg8MYBG66K"
      },
      "execution_count": null,
      "outputs": []
    },
    {
      "cell_type": "code",
      "source": [
        "ind_=np.where(paises=='Spain')\n",
        "ind_=ind_[0]\n",
        "casos_=confirmados[ind_]\n",
        "casos_principioSP=casos_[25:71]\n",
        "dias_principioSP=dias[25:71]\n",
        "#ajustamos\n",
        "popt, pcov = curve_fit(exponencial, dias_principioSP, casos_principioSP)\n",
        "popt"
      ],
      "metadata": {
        "id": "BJtlkhtLHOvc"
      },
      "execution_count": null,
      "outputs": []
    },
    {
      "cell_type": "code",
      "source": [
        "kSP=popt[0]\n",
        "t0=popt[1]\n",
        "casos_simuSP=exponencial(dias_principioSP,kSP,t0)\n",
        "plt.plot(dias_principioSP,casos_principioSP,'.')\n",
        "plt.plot(dias_principioSP,casos_simuSP)\n",
        "plt.title(\"Casos de 'Spain'.SUMULADO VS REAL\")\n",
        "plt.xlabel('dias')\n",
        "plt.ylabel('cantidad de casos_per_100Thousand')"
      ],
      "metadata": {
        "id": "nBh1KEodHRkH"
      },
      "execution_count": null,
      "outputs": []
    },
    {
      "cell_type": "code",
      "source": [
        "ind_=np.where(paises=='Sweden')\n",
        "ind_=ind_[0]\n",
        "casos_=confirmados[ind_]\n",
        "casos_principioSW=casos_[25:71]\n",
        "dias_principioSW=dias[25:71]\n",
        "#ajustamos\n",
        "popt, pcov = curve_fit(exponencial, dias_principioSW, casos_principioSW)\n",
        "popt"
      ],
      "metadata": {
        "id": "3VwdIFEuI0gk"
      },
      "execution_count": null,
      "outputs": []
    },
    {
      "cell_type": "code",
      "source": [
        "kSW=popt[0]\n",
        "t0=popt[1]\n",
        "casos_simuSW=exponencial(dias_principioSW,kSW,t0)\n",
        "plt.plot(dias_principioSW,casos_principioSW,'.')\n",
        "plt.plot(dias_principioSW,casos_simuSW)\n",
        "plt.title(\"Casos de 'Sweden'.SUMULADO VS REAL\")\n",
        "plt.xlabel('dias')\n",
        "plt.ylabel('cantidad de casos_per_100Thousand')"
      ],
      "metadata": {
        "id": "1GLx4v6WI2fY"
      },
      "execution_count": null,
      "outputs": []
    },
    {
      "cell_type": "markdown",
      "source": [
        "Compararemos y analisaremos el K de los 10 paises seleccionados y el K del mundo. Veremos si se puede decir que el comportamiento de los paises seleccionados es igual al del mundo."
      ],
      "metadata": {
        "id": "m5BpK5sdst9t"
      }
    },
    {
      "cell_type": "code",
      "source": [
        "list_total_paises=paises.unique().tolist()"
      ],
      "metadata": {
        "id": "NUp80jNBHWAb"
      },
      "execution_count": null,
      "outputs": []
    },
    {
      "cell_type": "code",
      "source": [
        "for i in list_total_paises:\n",
        "    ind_=np.where(paises==i)\n",
        "    ind_=ind_[0]\n",
        "    casos_=confirmados[ind_]\n",
        "    casos_principioW=casos_[30:71]\n",
        "    dias_principioW=dias[30:71]\n",
        "    \n",
        "    \n",
        "for i in lista_paises_norte:\n",
        "    ind_=np.where(paises==i)\n",
        "    ind_=ind_[0]\n",
        "    casos_=confirmados[ind_]\n",
        "    casos_principio10pn=casos_[30:71]\n",
        "    dias_principio10pn=dias[30:71]\n",
        "\n",
        "    \n",
        "popt, pcov = curve_fit(exponencial, dias_principio10pn, casos_principio10pn)\n",
        "print(popt)       \n",
        "\n",
        "plt.figure(figsize=(18,9))\n",
        "plt.suptitle(\"Graficos comparativos de casos Covid-19. Mundo vs 10 paises Norte\")\n",
        "plt.subplot(2,2,1)\n",
        "plt.plot(dias_principioW,casos_principioW,color=\"r\")\n",
        "plt.title(\"Casos de covid-19 Mundo\")\n",
        "plt.xlabel('dias')\n",
        "plt.ylabel('cantidad de casos_per_100Thousand')    \n",
        "plt.grid()\n",
        "plt.subplot(2,2,2)\n",
        "plt.plot(dias_principioW,np.log(casos_principioW),color=\"r\")\n",
        "plt.title(\"Casos de covid-19 Mundo -LOG-\")\n",
        "plt.xlabel('dias')\n",
        "plt.ylabel('log cantidad de casos_per_100Thousand')\n",
        "plt.grid()\n",
        "plt.subplot(2,2,3)\n",
        "plt.plot(dias_principio10pn,casos_principio10pn)\n",
        "plt.title(\"Casos de covid-19 de 10 paises del Norte\")\n",
        "plt.xlabel('dias')\n",
        "plt.ylabel('cantidad de casos_per_100Thousand')    \n",
        "plt.grid()\n",
        "plt.subplot(2,2,4)\n",
        "plt.plot(dias_principio10pn,np.log(casos_principio10pn))\n",
        "plt.title(\"Casos de covid-19 de 10 paises del Norte -LOG-\")\n",
        "plt.xlabel('dias')\n",
        "plt.ylabel('log cantidad de casos_per_100Thousand')\n",
        "plt.grid()\n",
        "plt.show()"
      ],
      "metadata": {
        "id": "v9nUHjZ_HYk2"
      },
      "execution_count": null,
      "outputs": []
    },
    {
      "cell_type": "markdown",
      "source": [
        "Tomamos un promedio de los dias de inicio de la curva de casos de los paises seleccionados, dando el dia 30 hasta el dia 71 donde en todos los paises seleccionados se estabiliza la curva de casos.\n",
        "\n",
        "Desde ya se nota que no es comparable por que vemos que en el caso de los paises se nota la exponencialidad en el periodo hasta la estabilizacion, pero con respecto al mundo se nota que en conjunto ni siquiera empezo esta exponencialidad, esta mucho mas retrazado, esto es logico que la pandemia fue expandiendose por todos los paises del mundo a traves del tiempo, que indudablemente no fue en el mismo periodo que los 10 paises del norte seleccionados."
      ],
      "metadata": {
        "id": "r1VOqQpetFXo"
      }
    },
    {
      "cell_type": "code",
      "source": [
        "k=popt[0]\n",
        "t0=popt[1]\n",
        "casos_simuMundo=exponencial(dias_principioW,k,t0)\n",
        "casos_simu10pn=exponencial(dias_principioW,k,t0)\n",
        "\n",
        "plt.figure(figsize=(10,5))\n",
        "plt.suptitle(\"Graficos comparativos de casos Covid-19. Mundo vs 10 paises Norte.SUMULADO VS REAL\")\n",
        "plt.subplot(1,2,1)\n",
        "plt.plot(dias_principio10pn,casos_principio10pn,'.',label=\"Real\")\n",
        "plt.plot(dias_principio10pn,casos_simu10pn,label=\"Simulado\")\n",
        "plt.title(\"Casos de 10 paises del Norte.SIMULADO VS REAL\")\n",
        "plt.xlabel('dias')\n",
        "plt.ylabel('cantidad de casos_per_100Thousand')\n",
        "plt.grid()\n",
        "plt.subplot(1,2,2)\n",
        "plt.title(\"Casos del Mundo.SIMULADO VS REAL\")\n",
        "plt.plot(dias_principioW,casos_principioW,'.',label=\"Real\")\n",
        "plt.plot(dias_principioW,casos_simuMundo,label=\"Simulado\")\n",
        "plt.xlabel('dias')\n",
        "plt.ylabel('cantidad de casos_per_100Thousand')\n",
        "plt.grid()"
      ],
      "metadata": {
        "id": "rJnlQdT1HeLl"
      },
      "execution_count": null,
      "outputs": []
    },
    {
      "cell_type": "markdown",
      "source": [
        "Volvemos a notar que los paises seleccionados con respecto al mundo no es comparable ni extrapolable.\n",
        "\n",
        "Aqui tomamos la K de los paises seleccionados para simular la exponencialidad de los casos de mundo y vemos que en el caso de los 10 paise se acomodan bastante bien con los casos reales, pero en el grafico del mundo lejos esta de poder predecir los casos del mundo con el K de los 10 paises; cuales son los motivos los mismo que los que fueren explicados en el grafico anterior, el tiempo en que de expandio el virus en estos paises y el resto del mundo."
      ],
      "metadata": {
        "id": "eMAy4l4IIFnM"
      }
    },
    {
      "cell_type": "code",
      "source": [
        "k10p = [kSW,kUS,kFR,kCA,kGE,kFI,kUK,kSP]\n",
        "k10p = pd.DataFrame(k10p)"
      ],
      "metadata": {
        "id": "uJ4x_CyyInt6"
      },
      "execution_count": null,
      "outputs": []
    },
    {
      "cell_type": "code",
      "source": [
        "k10p.describe()"
      ],
      "metadata": {
        "id": "bb11m7WKIp4H"
      },
      "execution_count": null,
      "outputs": []
    },
    {
      "cell_type": "code",
      "source": [
        "mu_k10p=np.mean(k10p)\n",
        "sigma_k10p=np.std(k10p)\n",
        "z=1.96\n",
        "n100=len(k10p)\n",
        "int_conf= [mu_k10p-z*sigma_k10p/np.sqrt(n100),mu_k10p+z*sigma_k10p/np.sqrt(n100)]\n",
        "print(int_conf )\n",
        "print((int_conf[1] - int_conf[0]))"
      ],
      "metadata": {
        "id": "y7-gDKbaJTrw"
      },
      "execution_count": null,
      "outputs": []
    },
    {
      "cell_type": "markdown",
      "source": [
        "Vemos entonces que el intervalo de confianza de confianza de 𝑘 para los 10 paises escogidos se encuentra entre [0.89418 , 0.134245] con una diferencia de 0.044827 entre los valores del intervalo."
      ],
      "metadata": {
        "id": "pEprh6ActRT0"
      }
    },
    {
      "cell_type": "markdown",
      "source": [
        "## Elección de la política pública"
      ],
      "metadata": {
        "id": "vNnTc2PbpLLU"
      }
    },
    {
      "cell_type": "markdown",
      "source": [
        "Trabajaremos de aquí en adelante con los países que decidieron realizar una cuarentena obligatoria vis-a-vis los países que decidieron no realizar la cuarentena obligatoria o adoptaron el enfoque de cuarentena inteligente, el cuál consiste de un aislamiento mucho más holgado en dónde sólo las personas con síntomas son aconsejadas para quedarse en sus hogares.\n",
        "\n",
        "La elección de este tipo de política responde a que fue una de los primeros enfoques aplicaods por los países del mundo como forma de combate ante la Pandemia restringiendo la movilidad de las poblaciones y generando los primeros indicadores para medir el avance del COVID-19 en el mundo.\n",
        "\n",
        "Por otro lado, se decidió usar este política con respecto a otras formas de políticas públicas tales como el incremento del gasto público con respecto al PIB, indicadores de riesgo país o programas de transferencias estatales dada la simplicidad y efectividad que ha tenido el enfoque de las cuarentenas y su facilidad de comparabilidad entre países con respecto al enfoque de utilizar medidas ecónomicas en dónde hay que tener en cuenta efectos como la paridad cruzada de los tipos de cambio, la inflación y el crecimiento ecónomico y factores socio-culturales,"
      ],
      "metadata": {
        "id": "XttzXvSEpQ91"
      }
    },
    {
      "cell_type": "markdown",
      "source": [
        "Con lo cual, seleccionaremos los 10 paises según la Politica elegida para el analisis \"Cuarentena Nacional Obligatoria\" vs \"Cuarentena Regional/No Cuarentena/Cuarentena Inteligente\".\n",
        "\n"
      ],
      "metadata": {
        "id": "8sQ1JBsvtmEy"
      }
    },
    {
      "cell_type": "markdown",
      "source": [
        "Para seleccionar que paises hicieron cuarentena y cuales no; y en que fechas empezeron, esta informacion la obtuvimos del siguiente link.\n",
        "\n",
        "https://es.wikipedia.org/wiki/Confinamiento_por_la_pandemia_de_COVID-19#Cuarentena_por_pa%C3%ADses\n",
        "\n",
        "CUARENTENA REGIONAL/NO HICIERON CUARENTENA/ CUARENTENA INTELIGENTE.-Binario 1\n",
        "\n",
        "'United States'-19/03/2020 AL Inicio Vacunacion.\n",
        "\n",
        "'Finland'-------27/03/2020 AL Inicio Vacunacion.\n",
        "\n",
        "'Germany'-------20/03/2020 AL Inicio Vacunacion.\n",
        "\n",
        "'Sweden'--------19/03/2020 AL Inicio Vacunacion.\n",
        "\n",
        "'Canada'--------19/03/2020 AL Inicio Vacunacion.\n",
        "\n",
        "CUARENTENA NACIONAL.-Binario 0\n",
        "\n",
        "'Spain'-----------15/03/2020 AL Inicio Vacunacion.\n",
        "\n",
        "'Italy'-----------09/03/2020 AL Inicio Vacunacion.\n",
        "\n",
        "'Denmark'---------11/03/2020 AL Inicio Vacunacion.\n",
        "\n",
        "'France'----------17/03/2020 AL Inicio Vacunacion.\n",
        "\n",
        "'United Kingdom'--20/03/2020 AL Inicio Vacunacion.\n",
        "\n",
        "El motivo por el cual dejamos la variable \"people_vaccinated\" era para determinar la fecha de inicio de la vacunacion y poder aislar la politica de cuarentena."
      ],
      "metadata": {
        "id": "HLYQzn9etsHd"
      }
    },
    {
      "cell_type": "code",
      "source": [
        "dataset_covid.describe()"
      ],
      "metadata": {
        "id": "wmTCsSSTmkg5"
      },
      "execution_count": null,
      "outputs": []
    },
    {
      "cell_type": "markdown",
      "source": [
        "Tomamos los 10 paises, 5 de los cuales hicieron \"Cuarentena Nacional Obligarotia\" y 5 de los cuales hicieron \"Cuarentena Regional o No hicieron Cuarentena\", tambien tomamos 3 paises mas para luego corroborar si el mejor modelo segun lo indicadores de la curvas logra predecir si estos paises hicieron o no cuarentena nacional."
      ],
      "metadata": {
        "id": "YjY1zAiKt3XQ"
      }
    },
    {
      "cell_type": "code",
      "source": [
        "dataset_paises_Analisis=dataset_covid[dataset_covid.location.isin(['United States','Finland','Germany','Sweden','Canada','Spain','Italy','Denmark','France','United Kingdom',\"Brazil\",'Argentina',\"Croatia\" ])]\n"
      ],
      "metadata": {
        "id": "YBWpY65dmxVz"
      },
      "execution_count": null,
      "outputs": []
    },
    {
      "cell_type": "code",
      "source": [
        "dataset_paises_Analisis[\"date\"]=pd.to_datetime(dataset_paises_Analisis.date)"
      ],
      "metadata": {
        "id": "Xvu0NjFlnISu"
      },
      "execution_count": null,
      "outputs": []
    },
    {
      "cell_type": "code",
      "source": [
        "dataset_paises_Analisis=dataset_paises_Analisis.set_index(\"date\")"
      ],
      "metadata": {
        "id": "n8KgjJU2nLzO"
      },
      "execution_count": null,
      "outputs": []
    },
    {
      "cell_type": "code",
      "source": [
        "DS_US_all_date=dataset_paises_Analisis[(dataset_paises_Analisis[\"location\"]=='United States')]\n",
        "DS_FI_all_date=dataset_paises_Analisis[(dataset_paises_Analisis[\"location\"]=='Finland')]\n",
        "DS_GE_all_date=dataset_paises_Analisis[(dataset_paises_Analisis[\"location\"]=='Germany')]\n",
        "DS_SW_all_date=dataset_paises_Analisis[(dataset_paises_Analisis[\"location\"]=='Sweden')]\n",
        "DS_CA_all_date=dataset_paises_Analisis[(dataset_paises_Analisis[\"location\"]=='Canada')]\n",
        "DS_SP_all_date=dataset_paises_Analisis[(dataset_paises_Analisis[\"location\"]=='Spain')]\n",
        "DS_IT_all_date=dataset_paises_Analisis[(dataset_paises_Analisis[\"location\"]=='Italy')]\n",
        "DS_DE_all_date=dataset_paises_Analisis[(dataset_paises_Analisis[\"location\"]=='Denmark')]\n",
        "DS_FR_all_date=dataset_paises_Analisis[(dataset_paises_Analisis[\"location\"]=='France')]\n",
        "DS_UK_all_date=dataset_paises_Analisis[(dataset_paises_Analisis[\"location\"]=='United Kingdom')]\n",
        "DS_BR_all_date=dataset_paises_Analisis[(dataset_paises_Analisis[\"location\"]=='Brazil')]\n",
        "DS_AR_all_date=dataset_paises_Analisis[(dataset_paises_Analisis[\"location\"]=='Argentina')]\n",
        "DS_CR_all_date=dataset_paises_Analisis[(dataset_paises_Analisis[\"location\"]=='Croatia')]"
      ],
      "metadata": {
        "id": "8_JIUJNbng7x"
      },
      "execution_count": null,
      "outputs": []
    },
    {
      "cell_type": "markdown",
      "source": [
        "Seleccionamos las fechas de duración de las cuarentenas de los diferentes paises."
      ],
      "metadata": {
        "id": "zYQU7Ywpw0_U"
      }
    },
    {
      "cell_type": "code",
      "source": [
        "DS_US=DS_US_all_date['2020-03-19':'2020-12-12']\n",
        "DS_FI=DS_FI_all_date['2020-03-27':'2021-01-24']\n",
        "DS_GE=DS_GE_all_date['2020-03-20':'2020-12-26']\n",
        "DS_SW=DS_SW_all_date['2020-03-19':'2020-12-26']\n",
        "DS_CA=DS_CA_all_date['2020-03-19':'2020-12-13']\n",
        "DS_SP=DS_SP_all_date[\"2020-03-15\":\"2021-01-03\"]\n",
        "DS_IT=DS_IT_all_date['2020-03-09':'2020-12-26']\n",
        "DS_DE=DS_DE_all_date['2020-03-11':'2020-11-30']\n",
        "DS_FR=DS_FR_all_date['2020-05-17':'2020-12-26']\n",
        "DS_UK=DS_UK_all_date['2020-07-20':'2021-01-09'] \n",
        "DS_BR=DS_BR_all_date['2020-03-19':'2020-12-13']\n",
        "DS_AR=DS_AR_all_date['2020-03-20':'2020-12-13']\n",
        "DS_CR=DS_CR_all_date['2020-03-18':'2020-12-13']"
      ],
      "metadata": {
        "id": "fg0iCLo3n2Kg"
      },
      "execution_count": null,
      "outputs": []
    },
    {
      "cell_type": "code",
      "source": [
        "DSet_paises_Analisis=DS_US.append(DS_FI)\n",
        "DSet_paises_Analisis=DSet_paises_Analisis.append(DS_GE)\n",
        "DSet_paises_Analisis=DSet_paises_Analisis.append(DS_SW)\n",
        "DSet_paises_Analisis=DSet_paises_Analisis.append(DS_CA)\n",
        "DSet_paises_Analisis=DSet_paises_Analisis.append(DS_SP)\n",
        "DSet_paises_Analisis=DSet_paises_Analisis.append(DS_IT)\n",
        "DSet_paises_Analisis=DSet_paises_Analisis.append(DS_DE)\n",
        "DSet_paises_Analisis=DSet_paises_Analisis.append(DS_FR)\n",
        "DSet_paises_Analisis=DSet_paises_Analisis.append(DS_UK)\n",
        "DSet_paises_Analisis=DSet_paises_Analisis.append(DS_BR)\n",
        "DSet_paises_Analisis=DSet_paises_Analisis.append(DS_AR)\n",
        "DSet_paises_Analisis=DSet_paises_Analisis.append(DS_CR)"
      ],
      "metadata": {
        "id": "2h2mSOwloMQ2"
      },
      "execution_count": null,
      "outputs": []
    },
    {
      "cell_type": "code",
      "source": [
        "DSet_paises_Analisis.reset_index(inplace=True)"
      ],
      "metadata": {
        "id": "cLedj91ToecD"
      },
      "execution_count": null,
      "outputs": []
    },
    {
      "cell_type": "code",
      "source": [
        "DSet_paises_Analisis[\"new_deaths_per_100Thousand\"].fillna(0,inplace=True)\n",
        "DSet_paises_Analisis[\"hosp_patients_per_million\"].fillna(0,inplace=True)\n",
        "DSet_paises_Analisis[\"stringency_index\"].fillna(0,inplace=True) "
      ],
      "metadata": {
        "id": "4fH64JKpoq7k"
      },
      "execution_count": null,
      "outputs": []
    },
    {
      "cell_type": "code",
      "source": [
        "DSet_paises_Analisis.isna().sum()"
      ],
      "metadata": {
        "id": "eWboGicmrrzn"
      },
      "execution_count": null,
      "outputs": []
    },
    {
      "cell_type": "code",
      "source": [
        "DSet_paises_Analisis=DSet_paises_Analisis[(DSet_paises_Analisis[\"hosp_patients_per_million\"]>=0) ]\n",
        "DSet_paises_Analisis=DSet_paises_Analisis[(DSet_paises_Analisis[\"new_deaths_per_100Thousand\"]>=0) ]\n",
        "DSet_paises_Analisis=DSet_paises_Analisis[(DSet_paises_Analisis[\"stringency_index\"]>=0) ]"
      ],
      "metadata": {
        "id": "JWbJZhp5r_-7"
      },
      "execution_count": null,
      "outputs": []
    },
    {
      "cell_type": "code",
      "source": [
        "dataset_cuarentenaRegion=DSet_paises_Analisis[DSet_paises_Analisis.location.isin(['United States','Finland','Germany','Sweden','Canada'])]\n",
        "dataset_cuarentenaRegion[\"si_no_Cuarentena\"]=1\n",
        "dataset_cuarentenaNacion=DSet_paises_Analisis[DSet_paises_Analisis.location.isin(['Spain','Italy','Denmark','France','United Kingdom'])]\n",
        "dataset_cuarentenaNacion[\"si_no_Cuarentena\"]=0"
      ],
      "metadata": {
        "id": "iKStekgisfTh"
      },
      "execution_count": null,
      "outputs": []
    },
    {
      "cell_type": "code",
      "source": [
        "from sklearn.metrics import accuracy_score\n",
        "from sklearn.metrics import confusion_matrix\n",
        "from sklearn.metrics import plot_confusion_matrix, classification_report\n",
        "from sklearn.linear_model import LogisticRegression\n",
        "from sklearn.metrics import roc_auc_score\n",
        "from sklearn.metrics import roc_curve\n",
        "from sklearn.model_selection import train_test_split\n",
        "from scipy.special import expit\n",
        "from sklearn.naive_bayes import GaussianNB"
      ],
      "metadata": {
        "id": "wlg8_Ujesv_E"
      },
      "execution_count": null,
      "outputs": []
    },
    {
      "cell_type": "markdown",
      "source": [
        "## Evaluando estrategias\n",
        "\n",
        "Evaluaremos las estrategias de los paises a traves de valores objetivos tomados de distintas fuentes, en titulos explicitaremos que indicador estamos evaluando.\n",
        "\n"
      ],
      "metadata": {
        "id": "ANMhbE9ezSN7"
      }
    },
    {
      "cell_type": "markdown",
      "source": [
        "Capacidad de utlizacion de las UCI"
      ],
      "metadata": {
        "id": "iNnu1B_2z-Ri"
      }
    },
    {
      "cell_type": "markdown",
      "source": [
        "De acuerdo al sitio COVID Act Now, una plataforma creada por las universidades de Harvard, Stanford y Georgetown destinado al trackeo de la pandemia en los Estados Unidos, una de las métricas claves para poder evaluar el éxito de la política sanitaria de un país es la capacidad de utilización de las unidades de terapia intensiva. En donde dicha variable proviene del uso de las camas de terapia intensiva.\n",
        "\n",
        "De acuerdo a esta plataforma, un nivel de utilización de las camas superior al 80% se toma como crítico.\n",
        "\n",
        "\n",
        "Link de las métricas utilizadas por esta plataforma: \n",
        "https://covidactnow.org/covid-risk-levels-metrics#icu-capacity-used  \n",
        "\n",
        "\n"
      ],
      "metadata": {
        "id": "YqfjEenG4ALA"
      }
    },
    {
      "cell_type": "code",
      "source": [
        "def _icu(fila):\n",
        "    resultado=(fila[\"icu_patients\"]/1000)\n",
        "    return resultado"
      ],
      "metadata": {
        "id": "VWcPOHKat6hu"
      },
      "execution_count": null,
      "outputs": []
    },
    {
      "cell_type": "code",
      "source": [
        "def rango_Aumen_Baja (fila): \n",
        "  if fila > 0.8 :\n",
        "     return 0\n",
        "  else : \n",
        "     return 1 "
      ],
      "metadata": {
        "id": "d7F1weM_XRMX"
      },
      "execution_count": null,
      "outputs": []
    },
    {
      "cell_type": "markdown",
      "source": [
        "Evaluamos la efectividad de la Cuarentena Regional."
      ],
      "metadata": {
        "id": "_on9vRfHcMwh"
      }
    },
    {
      "cell_type": "code",
      "source": [
        "dataset_cuarentenaRegion[\"icu_patients_per_thousand\"]=dataset_cuarentenaRegion.apply(_icu,axis=1)"
      ],
      "metadata": {
        "id": "zvqKqMj1wPHT"
      },
      "execution_count": null,
      "outputs": []
    },
    {
      "cell_type": "code",
      "source": [
        "dataset_cuarentenaRegion[\"icu_capacity\"] = (dataset_cuarentenaRegion[\"icu_patients_per_thousand\"] / dataset_cuarentenaRegion[\"hospital_beds_per_thousand\"])*100"
      ],
      "metadata": {
        "id": "BCg8GYr8wxcY"
      },
      "execution_count": null,
      "outputs": []
    },
    {
      "cell_type": "code",
      "source": [
        "dataset_cuarentenaRegion['icu_capacity'] = dataset_cuarentenaRegion['icu_capacity'].fillna(0)"
      ],
      "metadata": {
        "id": "R2tvFTFry7eJ"
      },
      "execution_count": null,
      "outputs": []
    },
    {
      "cell_type": "code",
      "source": [
        "dataset_cuarentenaRegion[\"Aument_BajaNC\"] = dataset_cuarentenaRegion[\"icu_capacity\"].map(rango_Aumen_Baja)\n"
      ],
      "metadata": {
        "id": "IbpnuPj8cNxP"
      },
      "execution_count": null,
      "outputs": []
    },
    {
      "cell_type": "code",
      "source": [
        "dataset_cuarentenaRegion.head()"
      ],
      "metadata": {
        "id": "-7QY1utgcRrn"
      },
      "execution_count": null,
      "outputs": []
    },
    {
      "cell_type": "code",
      "source": [
        "sns.countplot(x=\"Aument_BajaNC\",data=dataset_cuarentenaRegion)\n",
        "plt.show()"
      ],
      "metadata": {
        "id": "mUB9rVaFinTA"
      },
      "execution_count": null,
      "outputs": []
    },
    {
      "cell_type": "markdown",
      "source": [
        "Vemos que la cuarentena regional fue efectiva, lo vemos en el grafico donde la categoria cero (0) que significa que la capacidad de las unidades de terapia intensiva es muy superior a la categoria uno (1) que es la que afirma que mejoró. La información provista indica que la no utilización generaría una mayor ocupación de las camas de terapia intensiva"
      ],
      "metadata": {
        "id": "kvr_nGnE6Mq6"
      }
    },
    {
      "cell_type": "markdown",
      "source": [
        "Evaluamos la efectividad de la Cuarentena Nacional Obligatoria."
      ],
      "metadata": {
        "id": "JoukK59BivdF"
      }
    },
    {
      "cell_type": "code",
      "source": [
        "dataset_cuarentenaNacion[\"icu_patients_per_thousand\"]=dataset_cuarentenaNacion.apply(_icu,axis=1)"
      ],
      "metadata": {
        "id": "yMIJP1AH9aBN"
      },
      "execution_count": null,
      "outputs": []
    },
    {
      "cell_type": "code",
      "source": [
        "dataset_cuarentenaNacion[\"icu_capacity\"] = (dataset_cuarentenaNacion[\"icu_patients_per_thousand\"] / dataset_cuarentenaNacion[\"hospital_beds_per_thousand\"])*100"
      ],
      "metadata": {
        "id": "pIQ6FJJ69aBN"
      },
      "execution_count": null,
      "outputs": []
    },
    {
      "cell_type": "code",
      "source": [
        "dataset_cuarentenaNacion['icu_capacity'] = dataset_cuarentenaNacion['icu_capacity'].fillna(0)"
      ],
      "metadata": {
        "id": "PTaMJE6f9aBO"
      },
      "execution_count": null,
      "outputs": []
    },
    {
      "cell_type": "code",
      "source": [
        "dataset_cuarentenaNacion[\"Aument_BajaNC\"] = dataset_cuarentenaNacion[\"icu_capacity\"].map(rango_Aumen_Baja)\n"
      ],
      "metadata": {
        "id": "5pWJEFke9aBO"
      },
      "execution_count": null,
      "outputs": []
    },
    {
      "cell_type": "code",
      "source": [
        "dataset_cuarentenaNacion[\"Aument_BajaNC\"] = dataset_cuarentenaNacion[\"icu_capacity\"].map(rango_Aumen_Baja)"
      ],
      "metadata": {
        "id": "fFEQJ3dy9G7V"
      },
      "execution_count": null,
      "outputs": []
    },
    {
      "cell_type": "code",
      "source": [
        "dataset_cuarentenaNacion.head(1)"
      ],
      "metadata": {
        "id": "9xz52F5e9vtY"
      },
      "execution_count": null,
      "outputs": []
    },
    {
      "cell_type": "code",
      "source": [
        "sns.countplot(x=\"Aument_BajaNC\",data=dataset_cuarentenaNacion)\n",
        "plt.show()"
      ],
      "metadata": {
        "id": "AXrRx-YY90yW"
      },
      "execution_count": null,
      "outputs": []
    },
    {
      "cell_type": "markdown",
      "source": [
        "Se puede concluir que, tanto con cuarentena obligatorio como sin ella, la capacidad de uso de las unidades de terapia intensiva fueron altas en ambos casos. Sin embargo, cabe resaltar que el acumulado es mucho mayor en el caso de la cuarentena inteligente, lo cual muestra cierto éxito del enfoque de la cuarentena obligatoria."
      ],
      "metadata": {
        "id": "yT1RBlfOcftg"
      }
    },
    {
      "cell_type": "markdown",
      "source": [
        "Tasa de positividad"
      ],
      "metadata": {
        "id": "DSZ9ZEPA_L-p"
      }
    },
    {
      "cell_type": "markdown",
      "source": [
        "De acuerdo a la plataforma previamente mencionada, la tasa de positivdad es otros de los indicadores que se utilizan.\n",
        "\n",
        "De acuerdo a ellos, un nivel de positividad superior al 20% diario es indicativo de que la estrategia encarada no es muy buena.\n",
        "\n",
        "\n"
      ],
      "metadata": {
        "id": "15jcC9oYAegp"
      }
    },
    {
      "cell_type": "code",
      "source": [
        "def rango_Aumen_Bajatr (fila): \n",
        "  if fila > 0.2 :\n",
        "     return 0\n",
        "  else : \n",
        "     return 1 "
      ],
      "metadata": {
        "id": "bG8l3rbVCxTx"
      },
      "execution_count": null,
      "outputs": []
    },
    {
      "cell_type": "code",
      "source": [
        "dataset_cuarentenaRegion[\"positive test rate\"] = (dataset_cuarentenaRegion[\"new_cases_per_100Thousand\"] / dataset_cuarentenaRegion[\"population_per_100Thousand\"])*100"
      ],
      "metadata": {
        "id": "uiu0NckGiua7"
      },
      "execution_count": null,
      "outputs": []
    },
    {
      "cell_type": "code",
      "source": [
        "dataset_cuarentenaRegion.head()"
      ],
      "metadata": {
        "id": "ffT7yrJsf53X"
      },
      "execution_count": null,
      "outputs": []
    },
    {
      "cell_type": "code",
      "source": [
        "dataset_cuarentenaRegion[\"Aument_Bajatr\"] = dataset_cuarentenaRegion[\"positive test rate\"].map(rango_Aumen_Bajatr)"
      ],
      "metadata": {
        "id": "scFZ8Rhog2w_"
      },
      "execution_count": null,
      "outputs": []
    },
    {
      "cell_type": "code",
      "source": [
        "sns.countplot(x=\"Aument_Bajatr\",data=dataset_cuarentenaRegion)\n",
        "plt.show()"
      ],
      "metadata": {
        "id": "Kk846hLiiOSk"
      },
      "execution_count": null,
      "outputs": []
    },
    {
      "cell_type": "markdown",
      "source": [
        "Veamos el éxito de la cuarentena obligatoria"
      ],
      "metadata": {
        "id": "EAkvrZcKChyJ"
      }
    },
    {
      "cell_type": "code",
      "source": [
        "dataset_cuarentenaNacion[\"positive test rate\"] = (dataset_cuarentenaNacion[\"new_cases_per_100Thousand\"] / dataset_cuarentenaNacion[\"population_per_100Thousand\"])*100"
      ],
      "metadata": {
        "id": "7HR4nybICl5u"
      },
      "execution_count": null,
      "outputs": []
    },
    {
      "cell_type": "code",
      "source": [
        "dataset_cuarentenaNacion.head()"
      ],
      "metadata": {
        "id": "0FcGwGiICl5u"
      },
      "execution_count": null,
      "outputs": []
    },
    {
      "cell_type": "code",
      "source": [
        "dataset_cuarentenaNacion[\"Aument_Bajatr\"] = dataset_cuarentenaNacion[\"positive test rate\"].map(rango_Aumen_Bajatr)"
      ],
      "metadata": {
        "id": "1-DOjk3ECl5v"
      },
      "execution_count": null,
      "outputs": []
    },
    {
      "cell_type": "code",
      "source": [
        "sns.countplot(x=\"Aument_Bajatr\",data=dataset_cuarentenaNacion)\n",
        "plt.show()"
      ],
      "metadata": {
        "id": "5UsglPfmCl5v"
      },
      "execution_count": null,
      "outputs": []
    },
    {
      "cell_type": "markdown",
      "source": [
        "Notamos que segun este indicador las distintas cuarentenas no fueron sufucientemente efectivas, pero que algun resultado tuviernon.\n",
        "\n",
        "Nuevamente, cabe resaltar que el acumulado es mucho mayor en el caso de la cuarentena inteligente, lo cual muestra cierto éxito del enfoque de la cuarentena obligatoria."
      ],
      "metadata": {
        "id": "ZixM7W5bigJa"
      }
    },
    {
      "cell_type": "markdown",
      "source": [
        "Tasa de reproducción"
      ],
      "metadata": {
        "id": "eVOcuGgSDosy"
      }
    },
    {
      "cell_type": "markdown",
      "source": [
        "Del siguiente link de la BBC tomamos la informacion que nos hace entender como funciona el ratio de reproduccion el cual si este es menor a 1 es que se esta logrando frenar el contagio, si es mayor a uno este sigue reproduciendoce.El valor inicia de la pandemia fue de 2,5.\n",
        "\n",
        "Este a mi entender es el mejor indicador para medir la eficacia de cualquier Politica sanitaria de cualquier pais, en este proyecto esta politica es la cuarentena Nacional vs. la cuarentena regional o no cuarentena."
      ],
      "metadata": {
        "id": "dFauJMuwjsoB"
      }
    },
    {
      "cell_type": "markdown",
      "source": [
        "https://www.bbc.com/mundo/noticias-51469198"
      ],
      "metadata": {
        "id": "MW4gf-92jwnZ"
      }
    },
    {
      "cell_type": "code",
      "source": [
        "def rango_Aumen_BajaRR (fila): \n",
        "  if fila < 1 :\n",
        "     return 0\n",
        "  else : \n",
        "     return 1 "
      ],
      "metadata": {
        "id": "fBPzU5Qpjrou"
      },
      "execution_count": null,
      "outputs": []
    },
    {
      "cell_type": "code",
      "source": [
        "dataset_cuarentenaRegion[\"Aument_BajaRR\"] = dataset_cuarentenaRegion[\"reproduction_rate\"].map(rango_Aumen_BajaRR)"
      ],
      "metadata": {
        "id": "lLucMMFAkMXc"
      },
      "execution_count": null,
      "outputs": []
    },
    {
      "cell_type": "code",
      "source": [
        "dataset_cuarentenaRegion.head(1)   "
      ],
      "metadata": {
        "id": "kBZ_PfrRkR5G"
      },
      "execution_count": null,
      "outputs": []
    },
    {
      "cell_type": "code",
      "source": [
        "sns.countplot(x=\"Aument_BajaRR\",data=dataset_cuarentenaRegion)\n",
        "plt.show()"
      ],
      "metadata": {
        "id": "j3zZaPxykfgy"
      },
      "execution_count": null,
      "outputs": []
    },
    {
      "cell_type": "markdown",
      "source": [
        "Vemos que con este criterio de evaluacion los paises que hicieron cuarentena regional no fue muy eficiente ya que en la mayoria de los casos no se pudo frenar el contagio.\n",
        "\n"
      ],
      "metadata": {
        "id": "tnrgw2a8kZAI"
      }
    },
    {
      "cell_type": "markdown",
      "source": [
        "Evaluamos la efectividad de la Cuarentena Nacional Obligatoria.\n",
        "\n",
        "  "
      ],
      "metadata": {
        "id": "2NVB7INTklUn"
      }
    },
    {
      "cell_type": "code",
      "source": [
        "dataset_cuarentenaNacion[\"Aument_BajaRR\"] = dataset_cuarentenaNacion[\"reproduction_rate\"].map(rango_Aumen_BajaRR)\n"
      ],
      "metadata": {
        "id": "3UuHJ3fHkkpg"
      },
      "execution_count": null,
      "outputs": []
    },
    {
      "cell_type": "code",
      "source": [
        "dataset_cuarentenaNacion.head(1)\n"
      ],
      "metadata": {
        "id": "GAeFEammkwO7"
      },
      "execution_count": null,
      "outputs": []
    },
    {
      "cell_type": "code",
      "source": [
        "sns.countplot(x=\"Aument_BajaRR\",data=dataset_cuarentenaNacion)\n",
        "plt.show()"
      ],
      "metadata": {
        "id": "8Rx2J9TuO5-u"
      },
      "execution_count": null,
      "outputs": []
    },
    {
      "cell_type": "markdown",
      "source": [
        "Notamos que segun este indicador las distintas cuarentenas no fueron sufucientemente efectivas, pero que algun resultado tuviernon.\n",
        "\n",
        "Por todo lo visto con estos 3 indicadores, la cuarentena obligatoria ha tenido una mejor performance en la lucha contra el COVID-19 aunque en cualquiera de los casos ninguno de los dos enfoques ha sido lo suficientemente eficaz para detener el avance de la pandemia."
      ],
      "metadata": {
        "id": "K7aWK8oUPD1c"
      }
    },
    {
      "cell_type": "markdown",
      "source": [
        "**Perparando los datos para modelar**\n",
        "\n",
        "Unimos los dos dataset de paises que hicieron cuarentena nacional y regional.\n",
        "\n"
      ],
      "metadata": {
        "id": "QpJklOr0lJlg"
      }
    },
    {
      "cell_type": "code",
      "source": [
        "DS_paises_Analisis=dataset_cuarentenaNacion.append(dataset_cuarentenaRegion)\n",
        "print(DS_paises_Analisis.shape)"
      ],
      "metadata": {
        "id": "6qxXacgClVQh"
      },
      "execution_count": null,
      "outputs": []
    },
    {
      "cell_type": "markdown",
      "source": [
        "Corroboramos que no haya faltantes, y si que en \"people vaccinated este 100% faltantes lo que nos indicaria que aislamos bien la politica de cuarentena.\n",
        "\n",
        "Vemos que en este dataset estan las variables Aument_BajaNC / Aument_BajaRR / Aument_Bajatr que son la clasificaciones que hicimos anteriormente para evaluar si los distintos estilo de cuarentena fueron o no eficaces, estas variables son las que vamos a poner en los modelos de clasificacion (con otras) para ver si es posible predecir si un pais hizo o no cuarentena nacional obligatoria."
      ],
      "metadata": {
        "id": "fbCVmQI0PUFU"
      }
    },
    {
      "cell_type": "code",
      "source": [
        "DS_paises_Analisis = DS_paises_Analisis.fillna(0)"
      ],
      "metadata": {
        "id": "_GRTwEt2C7By"
      },
      "execution_count": null,
      "outputs": []
    },
    {
      "cell_type": "code",
      "source": [
        "for col in DS_paises_Analisis.columns:\n",
        "    nulos=DS_paises_Analisis[col].isna().sum()\n",
        "    print(col, \"{:.2f}%\".format(nulos*100/2630))"
      ],
      "metadata": {
        "id": "wl5na6oulbjq"
      },
      "execution_count": null,
      "outputs": []
    },
    {
      "cell_type": "code",
      "source": [
        "print(DS_paises_Analisis.shape)\n",
        "DS_paises_Analisis.describe()"
      ],
      "metadata": {
        "id": "rfbuvI2tl7ny"
      },
      "execution_count": null,
      "outputs": []
    },
    {
      "cell_type": "code",
      "source": [
        "sns.countplot(x=\"si_no_Cuarentena\",data=DS_paises_Analisis)\n",
        "plt.show()"
      ],
      "metadata": {
        "id": "w3dI59CR2xwe"
      },
      "execution_count": null,
      "outputs": []
    },
    {
      "cell_type": "markdown",
      "source": [
        "## Modelando\n",
        "\n",
        "Para el modelado vamos a utilizar la Regresion logistica que es un clasificador y la vamos a evaluar a traves del accuracy, haremos tres modelos tomando variables en comun (el cual explicaremos) y cada modelo tendra la diferencia de la variable indicadora y la variable categorica de si fue o no efectiva la politica. La variable a predecir es \"Si hizo o no Cuartena nacional obligatoria. Cero (0) \"si hizo\"; uno (1) \"no hizo\".\n",
        "\n",
        "Variables en comun: \"stringency_index\"= dice que tan estricta fue la politica. \"population_per_100Thousand\"= cantidad de poblacion para marcar que los paises tiene diferentes cantidades de pobladores. \"population_density_per_100Thousand\"= La densidad poblacional el cual no es lo mismo que poblacion.\n",
        "\n",
        "Para modelar utilizaremos el modelo de Regresion logistica de la libreria Scikit Learn.\n"
      ],
      "metadata": {
        "id": "-x2FuU6BQxxW"
      }
    },
    {
      "cell_type": "markdown",
      "source": [
        "### Tasa de reproducción"
      ],
      "metadata": {
        "id": "QlWZu3rqQ8P7"
      }
    },
    {
      "cell_type": "code",
      "source": [
        "XRr=DS_paises_Analisis[[\"stringency_index\",\"population_density_per_100Thousand\",\"population_per_100Thousand\",\"reproduction_rate\",\"Aument_BajaRR\"]]\n",
        "yRr=DS_paises_Analisis[\"si_no_Cuarentena\"]"
      ],
      "metadata": {
        "id": "lBSkBZMamM-R"
      },
      "execution_count": null,
      "outputs": []
    },
    {
      "cell_type": "code",
      "source": [
        "XRr_train, XRr_test, yRr_train, yRr_test = train_test_split(XRr, yRr, test_size = 0.25, random_state=0)"
      ],
      "metadata": {
        "id": "bnUXsi0amT61"
      },
      "execution_count": null,
      "outputs": []
    },
    {
      "cell_type": "code",
      "source": [
        "clf_Rr = LogisticRegression(random_state=0)"
      ],
      "metadata": {
        "id": "Y7oJWKEInEr9"
      },
      "execution_count": null,
      "outputs": []
    },
    {
      "cell_type": "code",
      "source": [
        "clf_Rr.fit(XRr_train, yRr_train)"
      ],
      "metadata": {
        "id": "yAorX5Y0nTXe"
      },
      "execution_count": null,
      "outputs": []
    },
    {
      "cell_type": "code",
      "source": [
        "clf_Rr.score(XRr_train,yRr_train)"
      ],
      "metadata": {
        "id": "HW7ZNPG3ni2F"
      },
      "execution_count": null,
      "outputs": []
    },
    {
      "cell_type": "code",
      "source": [
        "clf_Rr.score(XRr_test,yRr_test)"
      ],
      "metadata": {
        "id": "S4R5ySqN4FFQ"
      },
      "execution_count": null,
      "outputs": []
    },
    {
      "cell_type": "markdown",
      "source": [
        "### Capacidad de utilización de las UCI"
      ],
      "metadata": {
        "id": "WQYQo0Zh6Fna"
      }
    },
    {
      "cell_type": "code",
      "source": [
        "X=DS_paises_Analisis[[\"stringency_index\",\"population_density_per_100Thousand\",\"population_per_100Thousand\",\"icu_patients\",\"Aument_BajaNC\"]]\n",
        "y=DS_paises_Analisis[\"si_no_Cuarentena\"]"
      ],
      "metadata": {
        "id": "BlDE9gtN6FH5"
      },
      "execution_count": null,
      "outputs": []
    },
    {
      "cell_type": "code",
      "source": [
        "DS_paises_Analisis[[\"stringency_index\",\"population_density_per_100Thousand\",\"population_per_100Thousand\",\"icu_capacity\",\"Aument_BajaNC\"]]"
      ],
      "metadata": {
        "id": "nVh0nJ54B_Si"
      },
      "execution_count": null,
      "outputs": []
    },
    {
      "cell_type": "code",
      "source": [
        "XSi_train, XSi_test, ySi_train, ySi_test = train_test_split(X, y, test_size = 0.25, random_state=0)"
      ],
      "metadata": {
        "id": "DoQoJW776nyj"
      },
      "execution_count": null,
      "outputs": []
    },
    {
      "cell_type": "code",
      "source": [
        "clf_Si = LogisticRegression(random_state=0)"
      ],
      "metadata": {
        "id": "bZ3velR96vxO"
      },
      "execution_count": null,
      "outputs": []
    },
    {
      "cell_type": "code",
      "source": [
        "np.isnan(X).any()#, np.infinity(X).any()\n"
      ],
      "metadata": {
        "id": "J4tbZhRd1HpY"
      },
      "execution_count": null,
      "outputs": []
    },
    {
      "cell_type": "code",
      "source": [
        "clf_Si.fit(XSi_train, ySi_train)"
      ],
      "metadata": {
        "id": "SroZ9REI60i6"
      },
      "execution_count": null,
      "outputs": []
    },
    {
      "cell_type": "code",
      "source": [
        "clf_Si.score(XSi_train,ySi_train)"
      ],
      "metadata": {
        "id": "zFtT3t8u65Ec"
      },
      "execution_count": null,
      "outputs": []
    },
    {
      "cell_type": "code",
      "source": [
        "clf_Rr.score(XSi_test,ySi_test)"
      ],
      "metadata": {
        "id": "5wV0uX10TY_e"
      },
      "execution_count": null,
      "outputs": []
    },
    {
      "cell_type": "markdown",
      "source": [
        "### Niveles de positividad en los testeos"
      ],
      "metadata": {
        "id": "YLwZeSDvObCa"
      }
    },
    {
      "cell_type": "code",
      "source": [
        "Xtr=DS_paises_Analisis[[\"stringency_index\",\"population_density_per_100Thousand\",\"population_per_100Thousand\",\"positive test rate\",\"Aument_Bajatr\"]]\n",
        "ytr=DS_paises_Analisis[\"si_no_Cuarentena\"]"
      ],
      "metadata": {
        "id": "VNw7Lo2sODhH"
      },
      "execution_count": null,
      "outputs": []
    },
    {
      "cell_type": "code",
      "source": [
        ""
      ],
      "metadata": {
        "id": "gRsM2kSjSlVr"
      },
      "execution_count": null,
      "outputs": []
    },
    {
      "cell_type": "code",
      "source": [
        "Xtr_train, Xtr_test, ytr_train, ytr_test = train_test_split(Xtr, ytr, test_size = 0.25, random_state=0)"
      ],
      "metadata": {
        "id": "X1EX3GaNSxUb"
      },
      "execution_count": null,
      "outputs": []
    },
    {
      "cell_type": "code",
      "source": [
        "clf_tr = LogisticRegression(random_state=0)"
      ],
      "metadata": {
        "id": "_KfhvR8IS5Zv"
      },
      "execution_count": null,
      "outputs": []
    },
    {
      "cell_type": "code",
      "source": [
        "np.isnan(Xtr).any()"
      ],
      "metadata": {
        "id": "wB4bovSFS_uB"
      },
      "execution_count": null,
      "outputs": []
    },
    {
      "cell_type": "code",
      "source": [
        "clf_tr.fit(Xtr_train, ytr_train)"
      ],
      "metadata": {
        "id": "pINv6L3ATFc0"
      },
      "execution_count": null,
      "outputs": []
    },
    {
      "cell_type": "code",
      "source": [
        "clf_tr.score(Xtr_train,ytr_train)"
      ],
      "metadata": {
        "id": "gOpP-wx3TMNB"
      },
      "execution_count": null,
      "outputs": []
    },
    {
      "cell_type": "code",
      "source": [
        "clf_Rr.score(Xtr_test,ytr_test)"
      ],
      "metadata": {
        "id": "evfG_KPuTgBy"
      },
      "execution_count": null,
      "outputs": []
    },
    {
      "cell_type": "markdown",
      "source": [
        "El mejor modelo es la regresion logistica que considera la \"Tasa de reproducción\" con accuracy train:0.608 y con accuracy test:0.606."
      ],
      "metadata": {
        "id": "UwEKIUTGOD2H"
      }
    },
    {
      "cell_type": "code",
      "source": [
        "from sklearn.model_selection import GridSearchCV"
      ],
      "metadata": {
        "id": "rWKwJlHUTVCJ"
      },
      "execution_count": null,
      "outputs": []
    },
    {
      "cell_type": "code",
      "source": [
        "parametersclf={\"penalty\":[\"l1\",\"l2\",\"none\",\"elasticnet\"],\n",
        "               \"C\":[1.5,1.2,1,0.8,0.5,0.2],\n",
        "               \"solver\":[\"newton-cg\",\"lbfgs\",\"liblinear\",\"sag\",\"saga\"]}"
      ],
      "metadata": {
        "id": "N9BkQYNnTYGs"
      },
      "execution_count": null,
      "outputs": []
    },
    {
      "cell_type": "code",
      "source": [
        "Modelclf_OptHip= LogisticRegression(random_state=0)"
      ],
      "metadata": {
        "id": "si4XOF2GTag9"
      },
      "execution_count": null,
      "outputs": []
    },
    {
      "cell_type": "code",
      "source": [
        "clf_GridSearchCV=GridSearchCV(Modelclf_OptHip,parametersclf,scoring=\"accuracy\",n_jobs=-1,cv=5)"
      ],
      "metadata": {
        "id": "xpor943OTche"
      },
      "execution_count": null,
      "outputs": []
    },
    {
      "cell_type": "code",
      "source": [
        "Fitclf_GridSearchCV=clf_GridSearchCV.fit(XRr_train,yRr_train)\n",
        "best_modelclf=clf_GridSearchCV.best_estimator_"
      ],
      "metadata": {
        "id": "RegTRQFkTe5Y"
      },
      "execution_count": null,
      "outputs": []
    },
    {
      "cell_type": "code",
      "source": [
        "Fitclf_GridSearchCV.best_params_"
      ],
      "metadata": {
        "id": "QE55HcSuTmvZ"
      },
      "execution_count": null,
      "outputs": []
    },
    {
      "cell_type": "code",
      "source": [
        "Model_final_clf=best_modelclf"
      ],
      "metadata": {
        "id": "o3h4S1VuTp7d"
      },
      "execution_count": null,
      "outputs": []
    },
    {
      "cell_type": "code",
      "source": [
        "Model_final_clf.fit(XRr_train, yRr_train)"
      ],
      "metadata": {
        "id": "tBXUHMNyTs85"
      },
      "execution_count": null,
      "outputs": []
    },
    {
      "cell_type": "code",
      "source": [
        "Model_final_clf.score(XRr_train,yRr_train)"
      ],
      "metadata": {
        "id": "HWtwv2zyTwly"
      },
      "execution_count": null,
      "outputs": []
    },
    {
      "cell_type": "code",
      "source": [
        "yRr_train_predic=Model_final_clf.predict(XRr_train)\n",
        "yRr_train_predic"
      ],
      "metadata": {
        "id": "C_QSiHAaTz-7"
      },
      "execution_count": null,
      "outputs": []
    },
    {
      "cell_type": "code",
      "source": [
        "predic_probas_train=Model_final_clf.predict_proba(XRr_train)"
      ],
      "metadata": {
        "id": "PtvEDdQwT3Fs"
      },
      "execution_count": null,
      "outputs": []
    },
    {
      "cell_type": "code",
      "source": [
        "Model_final_clf.score(XRr_test,yRr_test)"
      ],
      "metadata": {
        "id": "wHdueSmzT5c3"
      },
      "execution_count": null,
      "outputs": []
    },
    {
      "cell_type": "code",
      "source": [
        "ynd_test_predic=Model_final_clf.predict(XRr_test)"
      ],
      "metadata": {
        "id": "7H-wt0fhT8Rb"
      },
      "execution_count": null,
      "outputs": []
    },
    {
      "cell_type": "code",
      "source": [
        "predic_probas_test=Model_final_clf.predict_proba(XRr_test)"
      ],
      "metadata": {
        "id": "5nYWFrObT-2b"
      },
      "execution_count": null,
      "outputs": []
    },
    {
      "cell_type": "code",
      "source": [
        "(Model_final_clf.score(XRr_test,yRr_test)/Model_final_clf.score(XRr_train,yRr_train))-1"
      ],
      "metadata": {
        "id": "BtxWHjLaUBN2"
      },
      "execution_count": null,
      "outputs": []
    },
    {
      "cell_type": "markdown",
      "source": [
        "El modelo optimizado mejoro de un accuracy train de:0.608 a 0.764 y el accuracy test de:0.606 a 0.7606. Un incremento no tan notorio ya que el nivel inicial ya se encontraba cercano a 1. a su vez notamos que no tiene casi sesgo ni varianza ya que la diferencia entre ambos es del -0.05%.\n",
        "\n"
      ],
      "metadata": {
        "id": "TquOBX2eUEyO"
      }
    },
    {
      "cell_type": "code",
      "source": [
        "matrix=plot_confusion_matrix(Model_final_clf,XRr_train,yRr_train, cmap=plt.cm.Reds)\n",
        "matrix.ax_.set_title(\"Confusion Matrix Dataset Train\")\n",
        "plt.xlabel(\"Predicted label\")\n",
        "plt.ylabel(\"True label\")\n",
        "plt.gcf().set_size_inches(10,6)\n",
        "plt.show()"
      ],
      "metadata": {
        "id": "KXX11ntHUNT0"
      },
      "execution_count": null,
      "outputs": []
    },
    {
      "cell_type": "code",
      "source": [
        "matrix=plot_confusion_matrix(Model_final_clf,XRr_test,yRr_test, cmap=plt.cm.Reds)\n",
        "matrix.ax_.set_title(\"Confusion Matrix Dataset Test\")\n",
        "plt.xlabel(\"Predicted label\")\n",
        "plt.ylabel(\"True label\")\n",
        "plt.gcf().set_size_inches(10,6)\n",
        "plt.show()"
      ],
      "metadata": {
        "id": "mtUv1geVUShr"
      },
      "execution_count": null,
      "outputs": []
    },
    {
      "cell_type": "markdown",
      "source": [
        "En las distitas matrices de confusion se ve que lo errores en clasificacion son menores ya que la mayoria estan bien clasificados.\n",
        "\n",
        "Ahora predeciremos la politica de tres paises que el modelo nunca vio y concluiremos si sirve o no o si parcialmente sirve y habria que hacer mayores modificaciones las cuales quedarian como preguntas a implementar en un futuro.\n",
        "\n",
        "Para determinar si un pais hizo o no cuarentena nacional la mayoria de las etiqueteas predicar tiene que ser 0 (cero). Utilizaremos a la variable \"muertes por cada 100 habitantes\" como variable de cruce para la estimación entre los cuales tenemos a Brasil, Croacia y Argentina."
      ],
      "metadata": {
        "id": "qzPFSa2QU8Ik"
      }
    },
    {
      "cell_type": "markdown",
      "source": [
        "## Experiencias internacionales"
      ],
      "metadata": {
        "id": "Z6O-bv6RH7O-"
      }
    },
    {
      "cell_type": "markdown",
      "source": [
        "### Brasil"
      ],
      "metadata": {
        "id": "4LGhnu6T358g"
      }
    },
    {
      "cell_type": "code",
      "source": [
        "DataS_BR=DSet_paises_Analisis[DSet_paises_Analisis.location==\"Brazil\"]"
      ],
      "metadata": {
        "id": "zOSrbVeM1vxn"
      },
      "execution_count": null,
      "outputs": []
    },
    {
      "cell_type": "code",
      "source": [
        "DataS_BR[\"Aument_BajaRR\"] = DataS_BR[\"new_deaths_per_100Thousand\"].map(rango_Aumen_BajaRR)"
      ],
      "metadata": {
        "id": "kzisZ1_z1y2S"
      },
      "execution_count": null,
      "outputs": []
    },
    {
      "cell_type": "code",
      "source": [
        "print(DataS_BR.shape)\n",
        "DataS_BR.head(2)"
      ],
      "metadata": {
        "id": "GuktwJNc10__"
      },
      "execution_count": null,
      "outputs": []
    },
    {
      "cell_type": "code",
      "source": [
        "for col in DataS_BR.columns:\n",
        "    nulos=DataS_BR[col].isna().sum()\n",
        "    print(col, \"{:.2f}%\".format(nulos*100/270))"
      ],
      "metadata": {
        "id": "bESbHRXx148K"
      },
      "execution_count": null,
      "outputs": []
    },
    {
      "cell_type": "code",
      "source": [
        "X=DataS_BR[[\"stringency_index\",\"population_density_per_100Thousand\",\"population_per_100Thousand\",\"reproduction_rate\",\"Aument_BajaRR\"]]"
      ],
      "metadata": {
        "id": "5ZASqOFR18qf"
      },
      "execution_count": null,
      "outputs": []
    },
    {
      "cell_type": "code",
      "source": [
        "y_DS_BR_predic=Model_final_clf.predict(X)\n",
        "y_DS_BR_predic"
      ],
      "metadata": {
        "id": "euFBgqaH1_ar"
      },
      "execution_count": null,
      "outputs": []
    },
    {
      "cell_type": "code",
      "source": [
        "sns.countplot(x=y_DS_BR_predic,data=DataS_BR,palette=\"plasma\")\n",
        "plt.show()"
      ],
      "metadata": {
        "id": "wHk8JkFl2C6F"
      },
      "execution_count": null,
      "outputs": []
    },
    {
      "cell_type": "markdown",
      "source": [
        "Utilizamos el modelo y vemos que predice que Brasil no hizo cuarentena en un 100%. Lo cual es correcto."
      ],
      "metadata": {
        "id": "DKlp1ZhU3JFn"
      }
    },
    {
      "cell_type": "markdown",
      "source": [
        "### Argentina"
      ],
      "metadata": {
        "id": "-YM-gAZ_V6_l"
      }
    },
    {
      "cell_type": "code",
      "source": [
        "DataS_AR=DSet_paises_Analisis[DSet_paises_Analisis.location==\"Argentina\"]\n",
        "DataS_AR = DataS_AR.fillna(0)"
      ],
      "metadata": {
        "id": "4fADwu64V9AK"
      },
      "execution_count": null,
      "outputs": []
    },
    {
      "cell_type": "code",
      "source": [
        "DataS_AR[\"Aument_BajaRR\"] = DataS_AR[\"new_deaths_per_100Thousand\"].map(rango_Aumen_BajaRR)"
      ],
      "metadata": {
        "id": "q3xuzLtLV_Cr"
      },
      "execution_count": null,
      "outputs": []
    },
    {
      "cell_type": "code",
      "source": [
        "print(DataS_AR.shape)\n",
        "DataS_AR.head(2)"
      ],
      "metadata": {
        "id": "BFV6wzcaWAxR"
      },
      "execution_count": null,
      "outputs": []
    },
    {
      "cell_type": "code",
      "source": [
        "for col in DataS_AR.columns:\n",
        "    nulos=DataS_AR[col].isna().sum()\n",
        "    print(col, \"{:.2f}%\".format(nulos*100/269))"
      ],
      "metadata": {
        "id": "7p61vH-oWEPu"
      },
      "execution_count": null,
      "outputs": []
    },
    {
      "cell_type": "markdown",
      "source": [
        "Vemos que la cuarentena ha sido efectiva al ver que la opcion que la opcion cero que, como vimosa previamente, determinaba que la tasa de reproduccion era lo suficientemente alta como para suponer que el freno del COVID-19 fue efectivo."
      ],
      "metadata": {
        "id": "uHr59Lgi0Idz"
      }
    },
    {
      "cell_type": "code",
      "source": [
        "sns.countplot(x=\"Aument_BajaRR\",data=DataS_AR)\n",
        "plt.show()"
      ],
      "metadata": {
        "id": "YyoxESOLWGe0"
      },
      "execution_count": null,
      "outputs": []
    },
    {
      "cell_type": "code",
      "source": [
        "X=DataS_AR[[\"stringency_index\",\"population_density_per_100Thousand\",\"population_per_100Thousand\",\"reproduction_rate\",\"Aument_BajaRR\"]]"
      ],
      "metadata": {
        "id": "IhjkegosWGaU"
      },
      "execution_count": null,
      "outputs": []
    },
    {
      "cell_type": "code",
      "source": [
        "y_DS_AR_predic=Model_final_clf.predict(X)\n",
        "y_DS_AR_predic"
      ],
      "metadata": {
        "id": "CZ7DnlMuWM5M"
      },
      "execution_count": null,
      "outputs": []
    },
    {
      "cell_type": "code",
      "source": [
        "sns.countplot(x=y_DS_AR_predic,data=DataS_AR,palette=\"plasma\")\n",
        "plt.show()  "
      ],
      "metadata": {
        "id": "eSnd5WNKWnX1"
      },
      "execution_count": null,
      "outputs": []
    },
    {
      "cell_type": "markdown",
      "source": [
        "Utilizamos el modelo y vemos que predice que Argentina hizo cuarentena nacional ya que tiene una probabilidad de haber hecho cuarentena nacional del 81% vs un 19% de no haberla hecho. Lo cual indica que la estimación realizada se condice con la realidad."
      ],
      "metadata": {
        "id": "CmFDEqQt3u48"
      }
    },
    {
      "cell_type": "markdown",
      "source": [
        "### Croacia"
      ],
      "metadata": {
        "id": "LvZ82fgf_3ly"
      }
    },
    {
      "cell_type": "code",
      "source": [
        "DataS_CR=DSet_paises_Analisis[DSet_paises_Analisis.location==\"Croatia\"]"
      ],
      "metadata": {
        "id": "_Ddrcq19_6eu"
      },
      "execution_count": null,
      "outputs": []
    },
    {
      "cell_type": "code",
      "source": [
        "DataS_CR[\"Aument_BajaRR\"] = DataS_CR[\"new_deaths_per_100Thousand\"].map(rango_Aumen_BajaRR)\n",
        "DataS_CR = DataS_CR.fillna(0)"
      ],
      "metadata": {
        "id": "IDwrkGVjMjPF"
      },
      "execution_count": null,
      "outputs": []
    },
    {
      "cell_type": "code",
      "source": [
        "print(DataS_CR.shape)\n",
        "DataS_CR.head(2)"
      ],
      "metadata": {
        "id": "eJK8EJqlMk_7"
      },
      "execution_count": null,
      "outputs": []
    },
    {
      "cell_type": "code",
      "source": [
        "for col in DataS_CR.columns:\n",
        "    nulos=DataS_CR[col].isna().sum()\n",
        "    print(col, \"{:.2f}%\".format(nulos*100/271))"
      ],
      "metadata": {
        "id": "5N2cRs15MoqN"
      },
      "execution_count": null,
      "outputs": []
    },
    {
      "cell_type": "code",
      "source": [
        "sns.countplot(x=\"Aument_BajaRR\",data=DataS_CR)\n",
        "plt.show()"
      ],
      "metadata": {
        "id": "YY0rY5XzMq7H"
      },
      "execution_count": null,
      "outputs": []
    },
    {
      "cell_type": "code",
      "source": [
        "X=DataS_CR[[\"stringency_index\",\"population_density_per_100Thousand\",\"population_per_100Thousand\",\"reproduction_rate\",\"Aument_BajaRR\"]]"
      ],
      "metadata": {
        "id": "zwA5DTI5MtVT"
      },
      "execution_count": null,
      "outputs": []
    },
    {
      "cell_type": "code",
      "source": [
        "y_DS_CR_predic=Model_final_clf.predict(X)\n",
        "y_DS_CR_predic"
      ],
      "metadata": {
        "id": "Pnc2UjgBN-Ib"
      },
      "execution_count": null,
      "outputs": []
    },
    {
      "cell_type": "code",
      "source": [
        "sns.countplot(x=y_DS_CR_predic,data=DataS_CR,palette=\"plasma\")\n",
        "plt.show()"
      ],
      "metadata": {
        "id": "7PXdR7DVOBvl"
      },
      "execution_count": null,
      "outputs": []
    },
    {
      "cell_type": "markdown",
      "source": [
        "En el caso de Croacia, utilizamos nuevamente el modelo y vemos que predice que este país hizo cuarentena nacional ya que tiene una probabilidad de haber hecho cuarentena nacional del 62% vs un 38% de no haberla hecho. Lo cual indica que la estimación realizada se condice a medias con la realidad, ya que la cuarentena realizada fue mucho más corta en comparación con la Argentina."
      ],
      "metadata": {
        "id": "TgBGpteW41Hb"
      }
    },
    {
      "cell_type": "markdown",
      "source": [
        "## Conclusiones \n"
      ],
      "metadata": {
        "id": "8g-IfSt6H191"
      }
    },
    {
      "cell_type": "markdown",
      "source": [
        "Concluimos que el mejor modelo desarrollado fue el regresion logistica que se basaba en la variable predictora \"Reproduction Rate\" esta fue la que mayor accuracy arrojo y luego de optimizar sus hiperparametros llego a un 76% de accuracy.\n",
        "\n",
        "Tambien concluimos que el indicador mas relevante y certero es el \"Reproduction Rate\" ya que es el unico que nos dice con certeza si la expansion del virus se esta frenando o no porque los nuevos casos tiene muchos baches en su determinacion como por ejemplo la falta de testeos o los pocos testeos que hace cada país y en relacion a las nuevas muertes es posible errores de carga de datos y se podrian cargar muerte por covid y en realidad son muertes por otras causas a demas de que no todos los contagiados son hospitalizado y no todos los hopitalizados mueren.\n",
        "\n",
        "En relacion a los modelos, concluimos que es posible hacer un clasificador a partir de una regresion logistica pero aunque como pudimos ver en las pruebas con los tres países nunca visto por el modelo, no logra clasificar un 100% correctamente, creemos que al agregar mas paises de distintas regiones del mundo, respetando la politica seleccionada y agregando mas variables predictoras se podria hacer un clasificador que nos diga que politica implementó cada pais con un mayor grado de precisión y consistencia.\n",
        "\n"
      ],
      "metadata": {
        "id": "9IYpwAXyVxfR"
      }
    },
    {
      "cell_type": "markdown",
      "source": [
        "## Preguntas a contestar y corrientes de mejora del trabajo\n",
        "Cómo reaccionaría el modelo ante cambios en las nuevas cepas de COVID 19 si quisieramos proceder a realizar una separación entre ellas?\n",
        "\n",
        "Las nuevas variables Omicron y Delta han generado cambios en las formas de testeos ya que han aparecido sintomas que antes no y generando falsos negativos en los testeos, lo cual podría generar nuevos desafíos en la medición del avance de la Pandemia y, por lo tanto, generando incosistencias en los clasificadores \n",
        "\n",
        "Que variables se podrían incorporar al modelo y que contemplen los factores socio culturales en él?\n",
        "\n",
        "Durante el transcurso de la pandemia, los factores psicologicos y de ingreso disponible en los países analizados impactan radicalmente en la decisión de las personas de quedarse en su casa durante la cuarentena como ha pasado en los países latinoamericanos con altos niveles de pobreza. Por otro lado, el enfoque de las cuarentenas obligatorias ha tenido distintos efectos desde la psicologia entre lo que se encuentran los emocionales, por el miedo a la cuarentena y de depresión, que ha generado incluso suicidios y que nos obliga a pensar \"que tan beneficiosa es en realidad la cuarentena?\" y poder introducirlo en nuestra regresión sería un valioso aporte para las políticas públicas.\n",
        "\n",
        "Otra posible coriente de análisis sería mediante la utilización de datos georeferenciados sería poder ver las posible ruta de contagios que tenga la enfermedad y poder proyectar los próximos destinos que tendría la Pandemia.\n",
        "\n",
        "Por último, considero que el cruzamiento con datos de climáticos brindaría mayor robustez para el uso en políticas públicas ya que la gripe es un virus que se tiene una mayor velocidad de propagación durante el invierno. Con lo cual, utilizando todos estos datos se podría realizar un mejor análisis para combatir la Pandemia y utilizar pandemias menos restrictivas y que impliquen un menor daño psicologico en la población.\n",
        "\n"
      ],
      "metadata": {
        "id": "cREpZCe2gqFE"
      }
    },
    {
      "cell_type": "markdown",
      "source": [
        "## Bibliografía Consultado\n"
      ],
      "metadata": {
        "id": "MzlxC1puVm9b"
      }
    },
    {
      "cell_type": "markdown",
      "source": [
        "\n",
        "\n",
        "* Blog el ABC. Estadísticas COVID-19, cuidado con los sesgos! \n",
        "\n",
        "* Dirección de asuntos internacionales de Argentina (2021). Medidas restrictivas en el mundo en el marco de la Pandemia por Covid-19.\n",
        "\n",
        "* Gestión y Economía de la Salud. Cuarentena inteligente: Alternativas de gestión al aislamiento total.\n",
        "\n",
        "* Lasa et al (2020). Las consecuencias psicólogicas de la COVID-19 y el confienamiento.\n",
        "\n",
        "* Stoto et al (2022). COVID-19 data are messy: analytic methods for rigorous impact analyses with imperfect\n",
        "data.\n",
        "\n",
        "---\n",
        "\n"
      ],
      "metadata": {
        "id": "nZkWIWmOVusI"
      }
    }
  ]
}